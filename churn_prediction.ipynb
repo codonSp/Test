{
  "nbformat": 4,
  "nbformat_minor": 0,
  "metadata": {
    "colab": {
      "name": "Untitled0.ipynb",
      "version": "0.3.2",
      "provenance": [],
      "include_colab_link": true
    },
    "kernelspec": {
      "name": "python3",
      "display_name": "Python 3"
    }
  },
  "cells": [
    {
      "cell_type": "markdown",
      "metadata": {
        "id": "view-in-github",
        "colab_type": "text"
      },
      "source": [
        "<a href=\"https://colab.research.google.com/github/codonSp/Test/blob/master/churn_prediction.ipynb\" target=\"_parent\"><img src=\"https://colab.research.google.com/assets/colab-badge.svg\" alt=\"Open In Colab\"/></a>"
      ]
    },
    {
      "metadata": {
        "id": "ZhIe_IRqVtot",
        "colab_type": "code",
        "outputId": "1505e5ab-b602-4733-c4b9-711cee88f4ef",
        "colab": {
          "resources": {
            "http://localhost:8080/nbextensions/google.colab/files.js": {
              "data": "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",
              "ok": true,
              "headers": [
                [
                  "content-type",
                  "application/javascript"
                ]
              ],
              "status": 200,
              "status_text": ""
            }
          },
          "base_uri": "https://localhost:8080/",
          "height": 40
        }
      },
      "cell_type": "code",
      "source": [
        "#upload data to google drive\n",
        "from google.colab import files\n",
        "uploaded = files.upload()"
      ],
      "execution_count": 10,
      "outputs": [
        {
          "output_type": "display_data",
          "data": {
            "text/html": [
              "\n",
              "     <input type=\"file\" id=\"files-7a6f3147-35fe-4ab1-bcbf-5382fbd9c69d\" name=\"files[]\" multiple disabled />\n",
              "     <output id=\"result-7a6f3147-35fe-4ab1-bcbf-5382fbd9c69d\">\n",
              "      Upload widget is only available when the cell has been executed in the\n",
              "      current browser session. Please rerun this cell to enable.\n",
              "      </output>\n",
              "      <script src=\"/nbextensions/google.colab/files.js\"></script> "
            ],
            "text/plain": [
              "<IPython.core.display.HTML object>"
            ]
          },
          "metadata": {
            "tags": []
          }
        }
      ]
    },
    {
      "metadata": {
        "id": "t7imk3XjGjn8",
        "colab_type": "code",
        "colab": {
          "base_uri": "https://localhost:8080/",
          "height": 70
        },
        "outputId": "f025da0c-a700-4102-a4d3-7194eec25063"
      },
      "cell_type": "code",
      "source": [
        "pip install --upgrade scikit-learn"
      ],
      "execution_count": 49,
      "outputs": [
        {
          "output_type": "stream",
          "text": [
            "Requirement already up-to-date: scikit-learn in /usr/local/lib/python3.6/dist-packages (0.20.3)\n",
            "Requirement already satisfied, skipping upgrade: numpy>=1.8.2 in /usr/local/lib/python3.6/dist-packages (from scikit-learn) (1.14.6)\n",
            "Requirement already satisfied, skipping upgrade: scipy>=0.13.3 in /usr/local/lib/python3.6/dist-packages (from scikit-learn) (1.1.0)\n"
          ],
          "name": "stdout"
        }
      ]
    },
    {
      "metadata": {
        "id": "eGdo5WGnGp6c",
        "colab_type": "code",
        "colab": {}
      },
      "cell_type": "code",
      "source": [
        "from sklearn.model_selection import cross_validate"
      ],
      "execution_count": 0,
      "outputs": []
    },
    {
      "metadata": {
        "id": "8xeJyc46f_cP",
        "colab_type": "code",
        "colab": {}
      },
      "cell_type": "code",
      "source": [
        "# from sklearn import cross_validation\n",
        "from sklearn import tree\n",
        "from sklearn import svm\n",
        "from sklearn import ensemble\n",
        "from sklearn import neighbors\n",
        "from sklearn import linear_model\n",
        "from sklearn import metrics\n",
        "from sklearn import preprocessing"
      ],
      "execution_count": 0,
      "outputs": []
    },
    {
      "metadata": {
        "id": "jevYDRwgGypS",
        "colab_type": "code",
        "colab": {}
      },
      "cell_type": "code",
      "source": [
        "%matplotlib inline \n",
        "\n",
        "from IPython.display import Image\n",
        "import matplotlib as mlp\n",
        "import matplotlib.pyplot as plt\n",
        "import numpy as np\n",
        "import os\n",
        "import pandas as pd\n",
        "import sklearn\n",
        "import seaborn as sns"
      ],
      "execution_count": 0,
      "outputs": []
    },
    {
      "metadata": {
        "id": "wg8EFhraG0Fr",
        "colab_type": "code",
        "colab": {
          "base_uri": "https://localhost:8080/",
          "height": 203
        },
        "outputId": "ae7de1b6-ea97-4708-81d1-bdc61015ffec"
      },
      "cell_type": "code",
      "source": [
        "#df = pd.read_csv('../input/mytest.csv')\n",
        "df = pd.read_csv('https://raw.githubusercontent.com/codonSp/Test/master/bigml_59c28831336c6604c800002a.csv')\n",
        "\n",
        "print (df2.shape)"
      ],
      "execution_count": 123,
      "outputs": [
        {
          "output_type": "error",
          "ename": "NameError",
          "evalue": "ignored",
          "traceback": [
            "\u001b[0;31m---------------------------------------------------------------------------\u001b[0m",
            "\u001b[0;31mNameError\u001b[0m                                 Traceback (most recent call last)",
            "\u001b[0;32m<ipython-input-123-3e03ce1e9ce1>\u001b[0m in \u001b[0;36m<module>\u001b[0;34m()\u001b[0m\n\u001b[1;32m      1\u001b[0m \u001b[0mdf\u001b[0m \u001b[0;34m=\u001b[0m \u001b[0mpd\u001b[0m\u001b[0;34m.\u001b[0m\u001b[0mread_csv\u001b[0m\u001b[0;34m(\u001b[0m\u001b[0;34m'https://raw.githubusercontent.com/codonSp/Test/master/bigml_59c28831336c6604c800002a.csv'\u001b[0m\u001b[0;34m)\u001b[0m\u001b[0;34m\u001b[0m\u001b[0;34m\u001b[0m\u001b[0m\n\u001b[1;32m      2\u001b[0m \u001b[0;34m\u001b[0m\u001b[0m\n\u001b[0;32m----> 3\u001b[0;31m \u001b[0mprint\u001b[0m \u001b[0;34m(\u001b[0m\u001b[0mdf2\u001b[0m\u001b[0;34m.\u001b[0m\u001b[0mshape\u001b[0m\u001b[0;34m)\u001b[0m\u001b[0;34m\u001b[0m\u001b[0;34m\u001b[0m\u001b[0m\n\u001b[0m",
            "\u001b[0;31mNameError\u001b[0m: name 'df2' is not defined"
          ]
        }
      ]
    },
    {
      "metadata": {
        "id": "9fRxWg1VIVv0",
        "colab_type": "code",
        "colab": {
          "base_uri": "https://localhost:8080/",
          "height": 34
        },
        "outputId": "4336518e-1db1-49b1-f5e3-9be4fd0eec95"
      },
      "cell_type": "code",
      "source": [
        "print(df.shape)"
      ],
      "execution_count": 13,
      "outputs": [
        {
          "output_type": "stream",
          "text": [
            "(3333, 21)\n"
          ],
          "name": "stdout"
        }
      ]
    },
    {
      "metadata": {
        "id": "QpQFfsJhIfA0",
        "colab_type": "code",
        "colab": {
          "base_uri": "https://localhost:8080/",
          "height": 347
        },
        "outputId": "64bb6d8c-91fa-46d8-8fc4-ef7546255c00"
      },
      "cell_type": "code",
      "source": [
        "df.iloc[:10,20:]"
      ],
      "execution_count": 130,
      "outputs": [
        {
          "output_type": "execute_result",
          "data": {
            "text/html": [
              "<div>\n",
              "<style scoped>\n",
              "    .dataframe tbody tr th:only-of-type {\n",
              "        vertical-align: middle;\n",
              "    }\n",
              "\n",
              "    .dataframe tbody tr th {\n",
              "        vertical-align: top;\n",
              "    }\n",
              "\n",
              "    .dataframe thead th {\n",
              "        text-align: right;\n",
              "    }\n",
              "</style>\n",
              "<table border=\"1\" class=\"dataframe\">\n",
              "  <thead>\n",
              "    <tr style=\"text-align: right;\">\n",
              "      <th></th>\n",
              "      <th>churn</th>\n",
              "      <th>first</th>\n",
              "      <th>second</th>\n",
              "      <th>second1</th>\n",
              "    </tr>\n",
              "  </thead>\n",
              "  <tbody>\n",
              "    <tr>\n",
              "      <th>0</th>\n",
              "      <td>False</td>\n",
              "      <td>382</td>\n",
              "      <td>4657</td>\n",
              "      <td>4</td>\n",
              "    </tr>\n",
              "    <tr>\n",
              "      <th>1</th>\n",
              "      <td>False</td>\n",
              "      <td>371</td>\n",
              "      <td>7191</td>\n",
              "      <td>3</td>\n",
              "    </tr>\n",
              "    <tr>\n",
              "      <th>2</th>\n",
              "      <td>False</td>\n",
              "      <td>358</td>\n",
              "      <td>1921</td>\n",
              "      <td>3</td>\n",
              "    </tr>\n",
              "    <tr>\n",
              "      <th>3</th>\n",
              "      <td>False</td>\n",
              "      <td>375</td>\n",
              "      <td>9999</td>\n",
              "      <td>1</td>\n",
              "    </tr>\n",
              "    <tr>\n",
              "      <th>4</th>\n",
              "      <td>False</td>\n",
              "      <td>330</td>\n",
              "      <td>6626</td>\n",
              "      <td>2</td>\n",
              "    </tr>\n",
              "    <tr>\n",
              "      <th>5</th>\n",
              "      <td>False</td>\n",
              "      <td>391</td>\n",
              "      <td>8027</td>\n",
              "      <td>4</td>\n",
              "    </tr>\n",
              "    <tr>\n",
              "      <th>6</th>\n",
              "      <td>False</td>\n",
              "      <td>355</td>\n",
              "      <td>9993</td>\n",
              "      <td>2</td>\n",
              "    </tr>\n",
              "    <tr>\n",
              "      <th>7</th>\n",
              "      <td>False</td>\n",
              "      <td>329</td>\n",
              "      <td>9001</td>\n",
              "      <td>3</td>\n",
              "    </tr>\n",
              "    <tr>\n",
              "      <th>8</th>\n",
              "      <td>False</td>\n",
              "      <td>335</td>\n",
              "      <td>4719</td>\n",
              "      <td>4</td>\n",
              "    </tr>\n",
              "    <tr>\n",
              "      <th>9</th>\n",
              "      <td>False</td>\n",
              "      <td>330</td>\n",
              "      <td>8173</td>\n",
              "      <td>4</td>\n",
              "    </tr>\n",
              "  </tbody>\n",
              "</table>\n",
              "</div>"
            ],
            "text/plain": [
              "   churn  first  second  second1\n",
              "0  False    382    4657        4\n",
              "1  False    371    7191        3\n",
              "2  False    358    1921        3\n",
              "3  False    375    9999        1\n",
              "4  False    330    6626        2\n",
              "5  False    391    8027        4\n",
              "6  False    355    9993        2\n",
              "7  False    329    9001        3\n",
              "8  False    335    4719        4\n",
              "9  False    330    8173        4"
            ]
          },
          "metadata": {
            "tags": []
          },
          "execution_count": 130
        }
      ]
    },
    {
      "metadata": {
        "id": "i7NdjtAUIjBd",
        "colab_type": "code",
        "colab": {
          "base_uri": "https://localhost:8080/",
          "height": 317
        },
        "outputId": "81449842-31db-4576-accd-09769db6b777"
      },
      "cell_type": "code",
      "source": [
        "t = df['churn'].value_counts()\n",
        "sns.barplot(t.index, t.values)"
      ],
      "execution_count": 20,
      "outputs": [
        {
          "output_type": "stream",
          "text": [
            "/usr/local/lib/python3.6/dist-packages/seaborn/categorical.py:1428: FutureWarning: remove_na is deprecated and is a private function. Do not use.\n",
            "  stat_data = remove_na(group_data)\n"
          ],
          "name": "stderr"
        },
        {
          "output_type": "execute_result",
          "data": {
            "text/plain": [
              "<matplotlib.axes._subplots.AxesSubplot at 0x7fbc88f26ef0>"
            ]
          },
          "metadata": {
            "tags": []
          },
          "execution_count": 20
        },
        {
          "output_type": "display_data",
          "data": {
            "image/png": "[encoded data removed]",
            "text/plain": [
              "<Figure size 432x288 with 1 Axes>"
            ]
          },
          "metadata": {
            "tags": []
          }
        }
      ]
    },
    {
      "metadata": {
        "id": "hl5pnj1RJ1Uc",
        "colab_type": "text"
      },
      "cell_type": "markdown",
      "source": [
        "EDA"
      ]
    },
    {
      "metadata": {
        "id": "awk_6oO_JK2F",
        "colab_type": "code",
        "colab": {
          "base_uri": "https://localhost:8080/",
          "height": 370
        },
        "outputId": "b73ffb64-cf89-4aac-edf5-597ebd939fd5"
      },
      "cell_type": "code",
      "source": [
        "df.describe()"
      ],
      "execution_count": 138,
      "outputs": [
        {
          "output_type": "execute_result",
          "data": {
            "text/html": [
              "<div>\n",
              "<style scoped>\n",
              "    .dataframe tbody tr th:only-of-type {\n",
              "        vertical-align: middle;\n",
              "    }\n",
              "\n",
              "    .dataframe tbody tr th {\n",
              "        vertical-align: top;\n",
              "    }\n",
              "\n",
              "    .dataframe thead th {\n",
              "        text-align: right;\n",
              "    }\n",
              "</style>\n",
              "<table border=\"1\" class=\"dataframe\">\n",
              "  <thead>\n",
              "    <tr style=\"text-align: right;\">\n",
              "      <th></th>\n",
              "      <th>state</th>\n",
              "      <th>account length</th>\n",
              "      <th>area code</th>\n",
              "      <th>international plan</th>\n",
              "      <th>voice mail plan</th>\n",
              "      <th>number vmail messages</th>\n",
              "      <th>total day minutes</th>\n",
              "      <th>total day calls</th>\n",
              "      <th>total day charge</th>\n",
              "      <th>total eve minutes</th>\n",
              "      <th>...</th>\n",
              "      <th>total eve charge</th>\n",
              "      <th>total night minutes</th>\n",
              "      <th>total night calls</th>\n",
              "      <th>total night charge</th>\n",
              "      <th>total intl minutes</th>\n",
              "      <th>total intl calls</th>\n",
              "      <th>total intl charge</th>\n",
              "      <th>customer service calls</th>\n",
              "      <th>first</th>\n",
              "      <th>second1</th>\n",
              "    </tr>\n",
              "  </thead>\n",
              "  <tbody>\n",
              "    <tr>\n",
              "      <th>count</th>\n",
              "      <td>3333.000000</td>\n",
              "      <td>3333.000000</td>\n",
              "      <td>3333.000000</td>\n",
              "      <td>3333.000000</td>\n",
              "      <td>3333.000000</td>\n",
              "      <td>3333.000000</td>\n",
              "      <td>3333.000000</td>\n",
              "      <td>3333.000000</td>\n",
              "      <td>3333.000000</td>\n",
              "      <td>3333.000000</td>\n",
              "      <td>...</td>\n",
              "      <td>3333.000000</td>\n",
              "      <td>3333.000000</td>\n",
              "      <td>3333.000000</td>\n",
              "      <td>3333.000000</td>\n",
              "      <td>3333.000000</td>\n",
              "      <td>3333.000000</td>\n",
              "      <td>3333.000000</td>\n",
              "      <td>3333.000000</td>\n",
              "      <td>3333.000000</td>\n",
              "      <td>3333.000000</td>\n",
              "    </tr>\n",
              "    <tr>\n",
              "      <th>mean</th>\n",
              "      <td>26.059406</td>\n",
              "      <td>101.064806</td>\n",
              "      <td>437.182418</td>\n",
              "      <td>0.096910</td>\n",
              "      <td>0.276628</td>\n",
              "      <td>8.099010</td>\n",
              "      <td>179.775098</td>\n",
              "      <td>100.435644</td>\n",
              "      <td>30.562307</td>\n",
              "      <td>200.980348</td>\n",
              "      <td>...</td>\n",
              "      <td>17.083540</td>\n",
              "      <td>200.872037</td>\n",
              "      <td>100.107711</td>\n",
              "      <td>9.039325</td>\n",
              "      <td>10.237294</td>\n",
              "      <td>4.479448</td>\n",
              "      <td>2.764581</td>\n",
              "      <td>1.562856</td>\n",
              "      <td>374.074407</td>\n",
              "      <td>3.432943</td>\n",
              "    </tr>\n",
              "    <tr>\n",
              "      <th>std</th>\n",
              "      <td>14.824911</td>\n",
              "      <td>39.822106</td>\n",
              "      <td>42.371290</td>\n",
              "      <td>0.295879</td>\n",
              "      <td>0.447398</td>\n",
              "      <td>13.688365</td>\n",
              "      <td>54.467389</td>\n",
              "      <td>20.069084</td>\n",
              "      <td>9.259435</td>\n",
              "      <td>50.713844</td>\n",
              "      <td>...</td>\n",
              "      <td>4.310668</td>\n",
              "      <td>50.573847</td>\n",
              "      <td>19.568609</td>\n",
              "      <td>2.275873</td>\n",
              "      <td>2.791840</td>\n",
              "      <td>2.461214</td>\n",
              "      <td>0.753773</td>\n",
              "      <td>1.315491</td>\n",
              "      <td>27.467320</td>\n",
              "      <td>0.612559</td>\n",
              "    </tr>\n",
              "    <tr>\n",
              "      <th>min</th>\n",
              "      <td>0.000000</td>\n",
              "      <td>1.000000</td>\n",
              "      <td>408.000000</td>\n",
              "      <td>0.000000</td>\n",
              "      <td>0.000000</td>\n",
              "      <td>0.000000</td>\n",
              "      <td>0.000000</td>\n",
              "      <td>0.000000</td>\n",
              "      <td>0.000000</td>\n",
              "      <td>0.000000</td>\n",
              "      <td>...</td>\n",
              "      <td>0.000000</td>\n",
              "      <td>23.200000</td>\n",
              "      <td>33.000000</td>\n",
              "      <td>1.040000</td>\n",
              "      <td>0.000000</td>\n",
              "      <td>0.000000</td>\n",
              "      <td>0.000000</td>\n",
              "      <td>0.000000</td>\n",
              "      <td>327.000000</td>\n",
              "      <td>1.000000</td>\n",
              "    </tr>\n",
              "    <tr>\n",
              "      <th>25%</th>\n",
              "      <td>14.000000</td>\n",
              "      <td>74.000000</td>\n",
              "      <td>408.000000</td>\n",
              "      <td>0.000000</td>\n",
              "      <td>0.000000</td>\n",
              "      <td>0.000000</td>\n",
              "      <td>143.700000</td>\n",
              "      <td>87.000000</td>\n",
              "      <td>24.430000</td>\n",
              "      <td>166.600000</td>\n",
              "      <td>...</td>\n",
              "      <td>14.160000</td>\n",
              "      <td>167.000000</td>\n",
              "      <td>87.000000</td>\n",
              "      <td>7.520000</td>\n",
              "      <td>8.500000</td>\n",
              "      <td>3.000000</td>\n",
              "      <td>2.300000</td>\n",
              "      <td>1.000000</td>\n",
              "      <td>350.000000</td>\n",
              "      <td>3.000000</td>\n",
              "    </tr>\n",
              "    <tr>\n",
              "      <th>50%</th>\n",
              "      <td>26.000000</td>\n",
              "      <td>101.000000</td>\n",
              "      <td>415.000000</td>\n",
              "      <td>0.000000</td>\n",
              "      <td>0.000000</td>\n",
              "      <td>0.000000</td>\n",
              "      <td>179.400000</td>\n",
              "      <td>101.000000</td>\n",
              "      <td>30.500000</td>\n",
              "      <td>201.400000</td>\n",
              "      <td>...</td>\n",
              "      <td>17.120000</td>\n",
              "      <td>201.200000</td>\n",
              "      <td>100.000000</td>\n",
              "      <td>9.050000</td>\n",
              "      <td>10.300000</td>\n",
              "      <td>4.000000</td>\n",
              "      <td>2.780000</td>\n",
              "      <td>1.000000</td>\n",
              "      <td>374.000000</td>\n",
              "      <td>3.000000</td>\n",
              "    </tr>\n",
              "    <tr>\n",
              "      <th>75%</th>\n",
              "      <td>39.000000</td>\n",
              "      <td>127.000000</td>\n",
              "      <td>510.000000</td>\n",
              "      <td>0.000000</td>\n",
              "      <td>1.000000</td>\n",
              "      <td>20.000000</td>\n",
              "      <td>216.400000</td>\n",
              "      <td>114.000000</td>\n",
              "      <td>36.790000</td>\n",
              "      <td>235.300000</td>\n",
              "      <td>...</td>\n",
              "      <td>20.000000</td>\n",
              "      <td>235.300000</td>\n",
              "      <td>113.000000</td>\n",
              "      <td>10.590000</td>\n",
              "      <td>12.100000</td>\n",
              "      <td>6.000000</td>\n",
              "      <td>3.270000</td>\n",
              "      <td>2.000000</td>\n",
              "      <td>398.000000</td>\n",
              "      <td>4.000000</td>\n",
              "    </tr>\n",
              "    <tr>\n",
              "      <th>max</th>\n",
              "      <td>50.000000</td>\n",
              "      <td>243.000000</td>\n",
              "      <td>510.000000</td>\n",
              "      <td>1.000000</td>\n",
              "      <td>1.000000</td>\n",
              "      <td>51.000000</td>\n",
              "      <td>350.800000</td>\n",
              "      <td>165.000000</td>\n",
              "      <td>59.640000</td>\n",
              "      <td>363.700000</td>\n",
              "      <td>...</td>\n",
              "      <td>30.910000</td>\n",
              "      <td>395.000000</td>\n",
              "      <td>175.000000</td>\n",
              "      <td>17.770000</td>\n",
              "      <td>20.000000</td>\n",
              "      <td>20.000000</td>\n",
              "      <td>5.400000</td>\n",
              "      <td>9.000000</td>\n",
              "      <td>422.000000</td>\n",
              "      <td>4.000000</td>\n",
              "    </tr>\n",
              "  </tbody>\n",
              "</table>\n",
              "<p>8 rows × 21 columns</p>\n",
              "</div>"
            ],
            "text/plain": [
              "             state  account length    area code  international plan  \\\n",
              "count  3333.000000     3333.000000  3333.000000         3333.000000   \n",
              "mean     26.059406      101.064806   437.182418            0.096910   \n",
              "std      14.824911       39.822106    42.371290            0.295879   \n",
              "min       0.000000        1.000000   408.000000            0.000000   \n",
              "25%      14.000000       74.000000   408.000000            0.000000   \n",
              "50%      26.000000      101.000000   415.000000            0.000000   \n",
              "75%      39.000000      127.000000   510.000000            0.000000   \n",
              "max      50.000000      243.000000   510.000000            1.000000   \n",
              "\n",
              "       voice mail plan  number vmail messages  total day minutes  \\\n",
              "count      3333.000000            3333.000000        3333.000000   \n",
              "mean          0.276628               8.099010         179.775098   \n",
              "std           0.447398              13.688365          54.467389   \n",
              "min           0.000000               0.000000           0.000000   \n",
              "25%           0.000000               0.000000         143.700000   \n",
              "50%           0.000000               0.000000         179.400000   \n",
              "75%           1.000000              20.000000         216.400000   \n",
              "max           1.000000              51.000000         350.800000   \n",
              "\n",
              "       total day calls  total day charge  total eve minutes     ...       \\\n",
              "count      3333.000000       3333.000000        3333.000000     ...        \n",
              "mean        100.435644         30.562307         200.980348     ...        \n",
              "std          20.069084          9.259435          50.713844     ...        \n",
              "min           0.000000          0.000000           0.000000     ...        \n",
              "25%          87.000000         24.430000         166.600000     ...        \n",
              "50%         101.000000         30.500000         201.400000     ...        \n",
              "75%         114.000000         36.790000         235.300000     ...        \n",
              "max         165.000000         59.640000         363.700000     ...        \n",
              "\n",
              "       total eve charge  total night minutes  total night calls  \\\n",
              "count       3333.000000          3333.000000        3333.000000   \n",
              "mean          17.083540           200.872037         100.107711   \n",
              "std            4.310668            50.573847          19.568609   \n",
              "min            0.000000            23.200000          33.000000   \n",
              "25%           14.160000           167.000000          87.000000   \n",
              "50%           17.120000           201.200000         100.000000   \n",
              "75%           20.000000           235.300000         113.000000   \n",
              "max           30.910000           395.000000         175.000000   \n",
              "\n",
              "       total night charge  total intl minutes  total intl calls  \\\n",
              "count         3333.000000         3333.000000       3333.000000   \n",
              "mean             9.039325           10.237294          4.479448   \n",
              "std              2.275873            2.791840          2.461214   \n",
              "min              1.040000            0.000000          0.000000   \n",
              "25%              7.520000            8.500000          3.000000   \n",
              "50%              9.050000           10.300000          4.000000   \n",
              "75%             10.590000           12.100000          6.000000   \n",
              "max             17.770000           20.000000         20.000000   \n",
              "\n",
              "       total intl charge  customer service calls        first      second1  \n",
              "count        3333.000000             3333.000000  3333.000000  3333.000000  \n",
              "mean            2.764581                1.562856   374.074407     3.432943  \n",
              "std             0.753773                1.315491    27.467320     0.612559  \n",
              "min             0.000000                0.000000   327.000000     1.000000  \n",
              "25%             2.300000                1.000000   350.000000     3.000000  \n",
              "50%             2.780000                1.000000   374.000000     3.000000  \n",
              "75%             3.270000                2.000000   398.000000     4.000000  \n",
              "max             5.400000                9.000000   422.000000     4.000000  \n",
              "\n",
              "[8 rows x 21 columns]"
            ]
          },
          "metadata": {
            "tags": []
          },
          "execution_count": 138
        }
      ]
    },
    {
      "metadata": {
        "id": "eZ32JSTqJhDS",
        "colab_type": "code",
        "colab": {
          "base_uri": "https://localhost:8080/",
          "height": 1640
        },
        "outputId": "3fa3c078-3782-48a3-9c6a-5ed6139f2ef8"
      },
      "cell_type": "code",
      "source": [
        "df.groupby([\"state\", \"churn\"]).size().unstack().plot(kind='bar', stacked=True, figsize=(15,5))\n",
        "df.groupby([\"area code\", \"churn\"]).size().unstack().plot(kind='bar', stacked=True, figsize=(5,5)) \n",
        "df.groupby([\"international plan\", \"churn\"]).size().unstack().plot(kind='bar', stacked=True, figsize=(5,5)) \n",
        "df.groupby([\"voice mail plan\", \"churn\"]).size().unstack().plot(kind='bar', stacked=True, figsize=(5,5)) \n",
        "df.groupby([\"customer service calls\", \"churn\"]).size().unstack().plot(kind='bar', stacked=True, figsize=(5,5)) "
      ],
      "execution_count": 26,
      "outputs": [
        {
          "output_type": "execute_result",
          "data": {
            "text/plain": [
              "<matplotlib.axes._subplots.AxesSubplot at 0x7fbc866ad6a0>"
            ]
          },
          "metadata": {
            "tags": []
          },
          "execution_count": 26
        },
        {
          "output_type": "display_data",
          "data": {
            "image/png": "[encoded data removed]",
            "text/plain": [
              "<Figure size 1080x360 with 1 Axes>"
            ]
          },
          "metadata": {
            "tags": []
          }
        },
        {
          "output_type": "display_data",
          "data": {
            "image/png": "[encoded data removed]",
            "text/plain": [
              "<Figure size 360x360 with 1 Axes>"
            ]
          },
          "metadata": {
            "tags": []
          }
        },
        {
          "output_type": "display_data",
          "data": {
            "image/png": "[encoded data removed]",
            "text/plain": [
              "<Figure size 360x360 with 1 Axes>"
            ]
          },
          "metadata": {
            "tags": []
          }
        },
        {
          "output_type": "display_data",
          "data": {
            "image/png": "[encoded data removed]",
            "text/plain": [
              "<Figure size 360x360 with 1 Axes>"
            ]
          },
          "metadata": {
            "tags": []
          }
        },
        {
          "output_type": "display_data",
          "data": {
            "image/png": "[encoded data removed]",
            "text/plain": [
              "<Figure size 360x360 with 1 Axes>"
            ]
          },
          "metadata": {
            "tags": []
          }
        }
      ]
    },
    {
      "metadata": {
        "id": "FePDYp13Ky0o",
        "colab_type": "code",
        "colab": {
          "base_uri": "https://localhost:8080/",
          "height": 346
        },
        "outputId": "aaff5182-1315-4afb-837d-195d62ffb39b"
      },
      "cell_type": "code",
      "source": [
        "df.groupby([\"second1\", \"churn\"]).size().unstack().plot(kind='bar', stacked=True, figsize=(15,5))"
      ],
      "execution_count": 132,
      "outputs": [
        {
          "output_type": "execute_result",
          "data": {
            "text/plain": [
              "<matplotlib.axes._subplots.AxesSubplot at 0x7fbc8624a1d0>"
            ]
          },
          "metadata": {
            "tags": []
          },
          "execution_count": 132
        },
        {
          "output_type": "display_data",
          "data": {
            "image/png": "[encoded data removed]",
            "text/plain": [
              "<Figure size 1080x360 with 1 Axes>"
            ]
          },
          "metadata": {
            "tags": []
          }
        }
      ]
    },
    {
      "metadata": {
        "id": "lPDOwDJ2LA81",
        "colab_type": "text"
      },
      "cell_type": "markdown",
      "source": [
        "label encodes"
      ]
    },
    {
      "metadata": {
        "id": "fQzKr73LLDEe",
        "colab_type": "code",
        "colab": {}
      },
      "cell_type": "code",
      "source": [
        "# Discreet value integer encoder\n",
        "label_encoder = preprocessing.LabelEncoder()\n",
        "df['state'] = label_encoder.fit_transform(df['state'])\n",
        "df['international plan'] = label_encoder.fit_transform(df['international plan'])\n",
        "df['voice mail plan'] = label_encoder.fit_transform(df['voice mail plan'])\n",
        "\n"
      ],
      "execution_count": 0,
      "outputs": []
    },
    {
      "metadata": {
        "id": "bcFSpiTFMU7H",
        "colab_type": "code",
        "colab": {}
      },
      "cell_type": "code",
      "source": [
        "\n",
        "#one hot encoding\n",
        "from sklearn.preprocessing import OneHotEncoder\n",
        "onehotencoder = OneHotEncoder(categorical_features = [0])\n",
        "dfDummies = pd.get_dummies(df['area code'], prefix = 'area')"
      ],
      "execution_count": 0,
      "outputs": []
    },
    {
      "metadata": {
        "id": "mtVGo_zbTZhi",
        "colab_type": "text"
      },
      "cell_type": "markdown",
      "source": [
        "Phone number\n"
      ]
    },
    {
      "metadata": {
        "id": "W0K7hE9HTXNS",
        "colab_type": "code",
        "colab": {}
      },
      "cell_type": "code",
      "source": [
        "df[['first','second']] = df['phone number'].str.split(\"-\", n = 1, expand = True).astype(int)\n",
        "\n"
      ],
      "execution_count": 0,
      "outputs": []
    },
    {
      "metadata": {
        "id": "fVS1Et74a7m_",
        "colab_type": "code",
        "colab": {}
      },
      "cell_type": "code",
      "source": [
        "\n",
        "df['second1'] = df['second'].apply(lambda x: len(set(str(x))))"
      ],
      "execution_count": 0,
      "outputs": []
    },
    {
      "metadata": {
        "id": "23yM3criV22G",
        "colab_type": "code",
        "colab": {
          "base_uri": "https://localhost:8080/",
          "height": 167
        },
        "outputId": "2066d45b-6c5d-4fe4-8670-2f9168138227"
      },
      "cell_type": "code",
      "source": [
        "len(set(str(122226)))"
      ],
      "execution_count": 90,
      "outputs": [
        {
          "output_type": "error",
          "ename": "TypeError",
          "evalue": "ignored",
          "traceback": [
            "\u001b[0;31m---------------------------------------------------------------------------\u001b[0m",
            "\u001b[0;31mTypeError\u001b[0m                                 Traceback (most recent call last)",
            "\u001b[0;32m<ipython-input-90-fec94ac2d76a>\u001b[0m in \u001b[0;36m<module>\u001b[0;34m()\u001b[0m\n\u001b[0;32m----> 1\u001b[0;31m \u001b[0mlen\u001b[0m\u001b[0;34m(\u001b[0m\u001b[0mlist\u001b[0m\u001b[0;34m(\u001b[0m\u001b[0mset\u001b[0m\u001b[0;34m(\u001b[0m\u001b[0;36m23\u001b[0m\u001b[0;34m)\u001b[0m\u001b[0;34m)\u001b[0m\u001b[0;34m)\u001b[0m\u001b[0;34m\u001b[0m\u001b[0;34m\u001b[0m\u001b[0m\n\u001b[0m",
            "\u001b[0;31mTypeError\u001b[0m: 'int' object is not iterable"
          ]
        }
      ]
    },
    {
      "metadata": {
        "id": "eapkoYw3TXwa",
        "colab_type": "text"
      },
      "cell_type": "markdown",
      "source": [
        ""
      ]
    },
    {
      "metadata": {
        "id": "yXzsiVsbNNVz",
        "colab_type": "code",
        "colab": {}
      },
      "cell_type": "code",
      "source": [
        "df1 = pd.concat([df, dfDummies], axis=1).drop(['area code'],axis=1)"
      ],
      "execution_count": 0,
      "outputs": []
    },
    {
      "metadata": {
        "id": "KdGPlHRCNBnc",
        "colab_type": "code",
        "colab": {
          "base_uri": "https://localhost:8080/",
          "height": 443
        },
        "outputId": "2389db30-7bbb-4f9f-9c40-380fd429cf9a"
      },
      "cell_type": "code",
      "source": [
        "df1.nunique()"
      ],
      "execution_count": 104,
      "outputs": [
        {
          "output_type": "execute_result",
          "data": {
            "text/plain": [
              "state                       51\n",
              "account length             212\n",
              "area code                    3\n",
              "phone number              3333\n",
              "international plan           2\n",
              "voice mail plan              2\n",
              "number vmail messages       46\n",
              "total day minutes         1667\n",
              "total day calls            119\n",
              "total day charge          1667\n",
              "total eve minutes         1611\n",
              "total eve calls            123\n",
              "total eve charge          1440\n",
              "total night minutes       1591\n",
              "total night calls          120\n",
              "total night charge         933\n",
              "total intl minutes         162\n",
              "total intl calls            21\n",
              "total intl charge          162\n",
              "customer service calls      10\n",
              "churn                        2\n",
              "0                           96\n",
              "1                         3333\n",
              "dtype: int64"
            ]
          },
          "metadata": {
            "tags": []
          },
          "execution_count": 104
        }
      ]
    },
    {
      "metadata": {
        "id": "tdE_CyNDZXkE",
        "colab_type": "code",
        "colab": {
          "base_uri": "https://localhost:8080/",
          "height": 197
        },
        "outputId": "df4e5cfb-1bf8-4483-b539-63332dff509c"
      },
      "cell_type": "code",
      "source": [
        "df1.iloc[:5,20:]"
      ],
      "execution_count": 110,
      "outputs": [
        {
          "output_type": "execute_result",
          "data": {
            "text/html": [
              "<div>\n",
              "<style scoped>\n",
              "    .dataframe tbody tr th:only-of-type {\n",
              "        vertical-align: middle;\n",
              "    }\n",
              "\n",
              "    .dataframe tbody tr th {\n",
              "        vertical-align: top;\n",
              "    }\n",
              "\n",
              "    .dataframe thead th {\n",
              "        text-align: right;\n",
              "    }\n",
              "</style>\n",
              "<table border=\"1\" class=\"dataframe\">\n",
              "  <thead>\n",
              "    <tr style=\"text-align: right;\">\n",
              "      <th></th>\n",
              "      <th>churn</th>\n",
              "      <th>0</th>\n",
              "      <th>1</th>\n",
              "    </tr>\n",
              "  </thead>\n",
              "  <tbody>\n",
              "    <tr>\n",
              "      <th>0</th>\n",
              "      <td>False</td>\n",
              "      <td>382</td>\n",
              "      <td>4657</td>\n",
              "    </tr>\n",
              "    <tr>\n",
              "      <th>1</th>\n",
              "      <td>False</td>\n",
              "      <td>371</td>\n",
              "      <td>7191</td>\n",
              "    </tr>\n",
              "    <tr>\n",
              "      <th>2</th>\n",
              "      <td>False</td>\n",
              "      <td>358</td>\n",
              "      <td>1921</td>\n",
              "    </tr>\n",
              "    <tr>\n",
              "      <th>3</th>\n",
              "      <td>False</td>\n",
              "      <td>375</td>\n",
              "      <td>9999</td>\n",
              "    </tr>\n",
              "    <tr>\n",
              "      <th>4</th>\n",
              "      <td>False</td>\n",
              "      <td>330</td>\n",
              "      <td>6626</td>\n",
              "    </tr>\n",
              "  </tbody>\n",
              "</table>\n",
              "</div>"
            ],
            "text/plain": [
              "   churn    0     1\n",
              "0  False  382  4657\n",
              "1  False  371  7191\n",
              "2  False  358  1921\n",
              "3  False  375  9999\n",
              "4  False  330  6626"
            ]
          },
          "metadata": {
            "tags": []
          },
          "execution_count": 110
        }
      ]
    },
    {
      "metadata": {
        "id": "0MpX_gQzOG_O",
        "colab_type": "code",
        "colab": {
          "base_uri": "https://localhost:8080/",
          "height": 1270
        },
        "outputId": "140f0b2a-bf29-4888-ce3c-d93cc881c10f"
      },
      "cell_type": "code",
      "source": [
        "y = df['churn'].as_matrix().astype(np.int)\n",
        "y.size"
      ],
      "execution_count": 136,
      "outputs": [
        {
          "output_type": "error",
          "ename": "KeyError",
          "evalue": "ignored",
          "traceback": [
            "\u001b[0;31m---------------------------------------------------------------------------\u001b[0m",
            "\u001b[0;31mKeyError\u001b[0m                                  Traceback (most recent call last)",
            "\u001b[0;32m/usr/local/lib/python3.6/dist-packages/pandas/core/indexes/base.py\u001b[0m in \u001b[0;36mget_loc\u001b[0;34m(self, key, method, tolerance)\u001b[0m\n\u001b[1;32m   2524\u001b[0m             \u001b[0;32mtry\u001b[0m\u001b[0;34m:\u001b[0m\u001b[0;34m\u001b[0m\u001b[0;34m\u001b[0m\u001b[0m\n\u001b[0;32m-> 2525\u001b[0;31m                 \u001b[0;32mreturn\u001b[0m \u001b[0mself\u001b[0m\u001b[0;34m.\u001b[0m\u001b[0m_engine\u001b[0m\u001b[0;34m.\u001b[0m\u001b[0mget_loc\u001b[0m\u001b[0;34m(\u001b[0m\u001b[0mkey\u001b[0m\u001b[0;34m)\u001b[0m\u001b[0;34m\u001b[0m\u001b[0;34m\u001b[0m\u001b[0m\n\u001b[0m\u001b[1;32m   2526\u001b[0m             \u001b[0;32mexcept\u001b[0m \u001b[0mKeyError\u001b[0m\u001b[0;34m:\u001b[0m\u001b[0;34m\u001b[0m\u001b[0;34m\u001b[0m\u001b[0m\n",
            "\u001b[0;32mpandas/_libs/index.pyx\u001b[0m in \u001b[0;36mpandas._libs.index.IndexEngine.get_loc\u001b[0;34m()\u001b[0m\n",
            "\u001b[0;32mpandas/_libs/index.pyx\u001b[0m in \u001b[0;36mpandas._libs.index.IndexEngine.get_loc\u001b[0;34m()\u001b[0m\n",
            "\u001b[0;32mpandas/_libs/hashtable_class_helper.pxi\u001b[0m in \u001b[0;36mpandas._libs.hashtable.PyObjectHashTable.get_item\u001b[0;34m()\u001b[0m\n",
            "\u001b[0;32mpandas/_libs/hashtable_class_helper.pxi\u001b[0m in \u001b[0;36mpandas._libs.hashtable.PyObjectHashTable.get_item\u001b[0;34m()\u001b[0m\n",
            "\u001b[0;31mKeyError\u001b[0m: 'churn'",
            "\nDuring handling of the above exception, another exception occurred:\n",
            "\u001b[0;31mKeyError\u001b[0m                                  Traceback (most recent call last)",
            "\u001b[0;32m<ipython-input-136-6d8d3aacabbb>\u001b[0m in \u001b[0;36m<module>\u001b[0;34m()\u001b[0m\n\u001b[0;32m----> 1\u001b[0;31m \u001b[0my\u001b[0m \u001b[0;34m=\u001b[0m \u001b[0mdf\u001b[0m\u001b[0;34m[\u001b[0m\u001b[0;34m'churn'\u001b[0m\u001b[0;34m]\u001b[0m\u001b[0;34m.\u001b[0m\u001b[0mas_matrix\u001b[0m\u001b[0;34m(\u001b[0m\u001b[0;34m)\u001b[0m\u001b[0;34m.\u001b[0m\u001b[0mastype\u001b[0m\u001b[0;34m(\u001b[0m\u001b[0mnp\u001b[0m\u001b[0;34m.\u001b[0m\u001b[0mint\u001b[0m\u001b[0;34m)\u001b[0m\u001b[0;34m\u001b[0m\u001b[0;34m\u001b[0m\u001b[0m\n\u001b[0m\u001b[1;32m      2\u001b[0m \u001b[0my\u001b[0m\u001b[0;34m.\u001b[0m\u001b[0msize\u001b[0m\u001b[0;34m\u001b[0m\u001b[0;34m\u001b[0m\u001b[0m\n",
            "\u001b[0;32m/usr/local/lib/python3.6/dist-packages/pandas/core/frame.py\u001b[0m in \u001b[0;36m__getitem__\u001b[0;34m(self, key)\u001b[0m\n\u001b[1;32m   2137\u001b[0m             \u001b[0;32mreturn\u001b[0m \u001b[0mself\u001b[0m\u001b[0;34m.\u001b[0m\u001b[0m_getitem_multilevel\u001b[0m\u001b[0;34m(\u001b[0m\u001b[0mkey\u001b[0m\u001b[0;34m)\u001b[0m\u001b[0;34m\u001b[0m\u001b[0;34m\u001b[0m\u001b[0m\n\u001b[1;32m   2138\u001b[0m         \u001b[0;32melse\u001b[0m\u001b[0;34m:\u001b[0m\u001b[0;34m\u001b[0m\u001b[0;34m\u001b[0m\u001b[0m\n\u001b[0;32m-> 2139\u001b[0;31m             \u001b[0;32mreturn\u001b[0m \u001b[0mself\u001b[0m\u001b[0;34m.\u001b[0m\u001b[0m_getitem_column\u001b[0m\u001b[0;34m(\u001b[0m\u001b[0mkey\u001b[0m\u001b[0;34m)\u001b[0m\u001b[0;34m\u001b[0m\u001b[0;34m\u001b[0m\u001b[0m\n\u001b[0m\u001b[1;32m   2140\u001b[0m \u001b[0;34m\u001b[0m\u001b[0m\n\u001b[1;32m   2141\u001b[0m     \u001b[0;32mdef\u001b[0m \u001b[0m_getitem_column\u001b[0m\u001b[0;34m(\u001b[0m\u001b[0mself\u001b[0m\u001b[0;34m,\u001b[0m \u001b[0mkey\u001b[0m\u001b[0;34m)\u001b[0m\u001b[0;34m:\u001b[0m\u001b[0;34m\u001b[0m\u001b[0;34m\u001b[0m\u001b[0m\n",
            "\u001b[0;32m/usr/local/lib/python3.6/dist-packages/pandas/core/frame.py\u001b[0m in \u001b[0;36m_getitem_column\u001b[0;34m(self, key)\u001b[0m\n\u001b[1;32m   2144\u001b[0m         \u001b[0;31m# get column\u001b[0m\u001b[0;34m\u001b[0m\u001b[0;34m\u001b[0m\u001b[0;34m\u001b[0m\u001b[0m\n\u001b[1;32m   2145\u001b[0m         \u001b[0;32mif\u001b[0m \u001b[0mself\u001b[0m\u001b[0;34m.\u001b[0m\u001b[0mcolumns\u001b[0m\u001b[0;34m.\u001b[0m\u001b[0mis_unique\u001b[0m\u001b[0;34m:\u001b[0m\u001b[0;34m\u001b[0m\u001b[0;34m\u001b[0m\u001b[0m\n\u001b[0;32m-> 2146\u001b[0;31m             \u001b[0;32mreturn\u001b[0m \u001b[0mself\u001b[0m\u001b[0;34m.\u001b[0m\u001b[0m_get_item_cache\u001b[0m\u001b[0;34m(\u001b[0m\u001b[0mkey\u001b[0m\u001b[0;34m)\u001b[0m\u001b[0;34m\u001b[0m\u001b[0;34m\u001b[0m\u001b[0m\n\u001b[0m\u001b[1;32m   2147\u001b[0m \u001b[0;34m\u001b[0m\u001b[0m\n\u001b[1;32m   2148\u001b[0m         \u001b[0;31m# duplicate columns & possible reduce dimensionality\u001b[0m\u001b[0;34m\u001b[0m\u001b[0;34m\u001b[0m\u001b[0;34m\u001b[0m\u001b[0m\n",
            "\u001b[0;32m/usr/local/lib/python3.6/dist-packages/pandas/core/generic.py\u001b[0m in \u001b[0;36m_get_item_cache\u001b[0;34m(self, item)\u001b[0m\n\u001b[1;32m   1840\u001b[0m         \u001b[0mres\u001b[0m \u001b[0;34m=\u001b[0m \u001b[0mcache\u001b[0m\u001b[0;34m.\u001b[0m\u001b[0mget\u001b[0m\u001b[0;34m(\u001b[0m\u001b[0mitem\u001b[0m\u001b[0;34m)\u001b[0m\u001b[0;34m\u001b[0m\u001b[0;34m\u001b[0m\u001b[0m\n\u001b[1;32m   1841\u001b[0m         \u001b[0;32mif\u001b[0m \u001b[0mres\u001b[0m \u001b[0;32mis\u001b[0m \u001b[0;32mNone\u001b[0m\u001b[0;34m:\u001b[0m\u001b[0;34m\u001b[0m\u001b[0;34m\u001b[0m\u001b[0m\n\u001b[0;32m-> 1842\u001b[0;31m             \u001b[0mvalues\u001b[0m \u001b[0;34m=\u001b[0m \u001b[0mself\u001b[0m\u001b[0;34m.\u001b[0m\u001b[0m_data\u001b[0m\u001b[0;34m.\u001b[0m\u001b[0mget\u001b[0m\u001b[0;34m(\u001b[0m\u001b[0mitem\u001b[0m\u001b[0;34m)\u001b[0m\u001b[0;34m\u001b[0m\u001b[0;34m\u001b[0m\u001b[0m\n\u001b[0m\u001b[1;32m   1843\u001b[0m             \u001b[0mres\u001b[0m \u001b[0;34m=\u001b[0m \u001b[0mself\u001b[0m\u001b[0;34m.\u001b[0m\u001b[0m_box_item_values\u001b[0m\u001b[0;34m(\u001b[0m\u001b[0mitem\u001b[0m\u001b[0;34m,\u001b[0m \u001b[0mvalues\u001b[0m\u001b[0;34m)\u001b[0m\u001b[0;34m\u001b[0m\u001b[0;34m\u001b[0m\u001b[0m\n\u001b[1;32m   1844\u001b[0m             \u001b[0mcache\u001b[0m\u001b[0;34m[\u001b[0m\u001b[0mitem\u001b[0m\u001b[0;34m]\u001b[0m \u001b[0;34m=\u001b[0m \u001b[0mres\u001b[0m\u001b[0;34m\u001b[0m\u001b[0;34m\u001b[0m\u001b[0m\n",
            "\u001b[0;32m/usr/local/lib/python3.6/dist-packages/pandas/core/internals.py\u001b[0m in \u001b[0;36mget\u001b[0;34m(self, item, fastpath)\u001b[0m\n\u001b[1;32m   3841\u001b[0m \u001b[0;34m\u001b[0m\u001b[0m\n\u001b[1;32m   3842\u001b[0m             \u001b[0;32mif\u001b[0m \u001b[0;32mnot\u001b[0m \u001b[0misna\u001b[0m\u001b[0;34m(\u001b[0m\u001b[0mitem\u001b[0m\u001b[0;34m)\u001b[0m\u001b[0;34m:\u001b[0m\u001b[0;34m\u001b[0m\u001b[0;34m\u001b[0m\u001b[0m\n\u001b[0;32m-> 3843\u001b[0;31m                 \u001b[0mloc\u001b[0m \u001b[0;34m=\u001b[0m \u001b[0mself\u001b[0m\u001b[0;34m.\u001b[0m\u001b[0mitems\u001b[0m\u001b[0;34m.\u001b[0m\u001b[0mget_loc\u001b[0m\u001b[0;34m(\u001b[0m\u001b[0mitem\u001b[0m\u001b[0;34m)\u001b[0m\u001b[0;34m\u001b[0m\u001b[0;34m\u001b[0m\u001b[0m\n\u001b[0m\u001b[1;32m   3844\u001b[0m             \u001b[0;32melse\u001b[0m\u001b[0;34m:\u001b[0m\u001b[0;34m\u001b[0m\u001b[0;34m\u001b[0m\u001b[0m\n\u001b[1;32m   3845\u001b[0m                 \u001b[0mindexer\u001b[0m \u001b[0;34m=\u001b[0m \u001b[0mnp\u001b[0m\u001b[0;34m.\u001b[0m\u001b[0marange\u001b[0m\u001b[0;34m(\u001b[0m\u001b[0mlen\u001b[0m\u001b[0;34m(\u001b[0m\u001b[0mself\u001b[0m\u001b[0;34m.\u001b[0m\u001b[0mitems\u001b[0m\u001b[0;34m)\u001b[0m\u001b[0;34m)\u001b[0m\u001b[0;34m[\u001b[0m\u001b[0misna\u001b[0m\u001b[0;34m(\u001b[0m\u001b[0mself\u001b[0m\u001b[0;34m.\u001b[0m\u001b[0mitems\u001b[0m\u001b[0;34m)\u001b[0m\u001b[0;34m]\u001b[0m\u001b[0;34m\u001b[0m\u001b[0;34m\u001b[0m\u001b[0m\n",
            "\u001b[0;32m/usr/local/lib/python3.6/dist-packages/pandas/core/indexes/base.py\u001b[0m in \u001b[0;36mget_loc\u001b[0;34m(self, key, method, tolerance)\u001b[0m\n\u001b[1;32m   2525\u001b[0m                 \u001b[0;32mreturn\u001b[0m \u001b[0mself\u001b[0m\u001b[0;34m.\u001b[0m\u001b[0m_engine\u001b[0m\u001b[0;34m.\u001b[0m\u001b[0mget_loc\u001b[0m\u001b[0;34m(\u001b[0m\u001b[0mkey\u001b[0m\u001b[0;34m)\u001b[0m\u001b[0;34m\u001b[0m\u001b[0;34m\u001b[0m\u001b[0m\n\u001b[1;32m   2526\u001b[0m             \u001b[0;32mexcept\u001b[0m \u001b[0mKeyError\u001b[0m\u001b[0;34m:\u001b[0m\u001b[0;34m\u001b[0m\u001b[0;34m\u001b[0m\u001b[0m\n\u001b[0;32m-> 2527\u001b[0;31m                 \u001b[0;32mreturn\u001b[0m \u001b[0mself\u001b[0m\u001b[0;34m.\u001b[0m\u001b[0m_engine\u001b[0m\u001b[0;34m.\u001b[0m\u001b[0mget_loc\u001b[0m\u001b[0;34m(\u001b[0m\u001b[0mself\u001b[0m\u001b[0;34m.\u001b[0m\u001b[0m_maybe_cast_indexer\u001b[0m\u001b[0;34m(\u001b[0m\u001b[0mkey\u001b[0m\u001b[0;34m)\u001b[0m\u001b[0;34m)\u001b[0m\u001b[0;34m\u001b[0m\u001b[0;34m\u001b[0m\u001b[0m\n\u001b[0m\u001b[1;32m   2528\u001b[0m \u001b[0;34m\u001b[0m\u001b[0m\n\u001b[1;32m   2529\u001b[0m         \u001b[0mindexer\u001b[0m \u001b[0;34m=\u001b[0m \u001b[0mself\u001b[0m\u001b[0;34m.\u001b[0m\u001b[0mget_indexer\u001b[0m\u001b[0;34m(\u001b[0m\u001b[0;34m[\u001b[0m\u001b[0mkey\u001b[0m\u001b[0;34m]\u001b[0m\u001b[0;34m,\u001b[0m \u001b[0mmethod\u001b[0m\u001b[0;34m=\u001b[0m\u001b[0mmethod\u001b[0m\u001b[0;34m,\u001b[0m \u001b[0mtolerance\u001b[0m\u001b[0;34m=\u001b[0m\u001b[0mtolerance\u001b[0m\u001b[0;34m)\u001b[0m\u001b[0;34m\u001b[0m\u001b[0;34m\u001b[0m\u001b[0m\n",
            "\u001b[0;32mpandas/_libs/index.pyx\u001b[0m in \u001b[0;36mpandas._libs.index.IndexEngine.get_loc\u001b[0;34m()\u001b[0m\n",
            "\u001b[0;32mpandas/_libs/index.pyx\u001b[0m in \u001b[0;36mpandas._libs.index.IndexEngine.get_loc\u001b[0;34m()\u001b[0m\n",
            "\u001b[0;32mpandas/_libs/hashtable_class_helper.pxi\u001b[0m in \u001b[0;36mpandas._libs.hashtable.PyObjectHashTable.get_item\u001b[0;34m()\u001b[0m\n",
            "\u001b[0;32mpandas/_libs/hashtable_class_helper.pxi\u001b[0m in \u001b[0;36mpandas._libs.hashtable.PyObjectHashTable.get_item\u001b[0;34m()\u001b[0m\n",
            "\u001b[0;31mKeyError\u001b[0m: 'churn'"
          ]
        }
      ]
    },
    {
      "metadata": {
        "id": "ih0boenCQ_GD",
        "colab_type": "code",
        "colab": {
          "base_uri": "https://localhost:8080/",
          "height": 34
        },
        "outputId": "43188b20-7023-43f3-f2ec-fdb2554e3366"
      },
      "cell_type": "code",
      "source": [
        "from sklearn.model_selection import StratifiedKFold\n",
        "stratified_k_fold = StratifiedKFold(n_splits=10, shuffle=True)\n",
        "stratified_k_fold.get_n_splits(X, y)"
      ],
      "execution_count": 55,
      "outputs": [
        {
          "output_type": "execute_result",
          "data": {
            "text/plain": [
              "10"
            ]
          },
          "metadata": {
            "tags": []
          },
          "execution_count": 55
        }
      ]
    },
    {
      "metadata": {
        "id": "wAPUNuH3P4Fl",
        "colab_type": "code",
        "colab": {}
      },
      "cell_type": "code",
      "source": [
        "from sklearn.model_selection import StratifiedKFold\n",
        "def stratified_cv(X, y, clf_class, shuffle=True, n_folds=5, **kwargs):\n",
        "    skf = StratifiedKFold(n_splits=2)\n",
        "    stratified_k_fold = StratifiedKFold(n_splits=n_folds, shuffle=shuffle)\n",
        "    y_pred = y.copy()\n",
        "    # ii -> train\n",
        "    # jj -> test indices\n",
        "    for ii, jj in stratified_k_fold.split(X,y): \n",
        "        X_train, X_test = X[ii], X[jj]\n",
        "        y_train = y[ii]\n",
        "        clf = clf_class(**kwargs)\n",
        "        clf.fit(X_train,y_train)\n",
        "        y_pred[jj] = clf.predict(X_test)\n",
        "    return y_pred\n"
      ],
      "execution_count": 0,
      "outputs": []
    },
    {
      "metadata": {
        "id": "oNopuuLyRxIV",
        "colab_type": "code",
        "colab": {
          "base_uri": "https://localhost:8080/",
          "height": 52
        },
        "outputId": "1b98ddcf-1f4c-4af2-8657-5dbb7023450f"
      },
      "cell_type": "code",
      "source": [
        "import warnings\n",
        "warnings.filterwarnings(\"ignore\")\n",
        "print('Gradient Boosting :  {:.4f}'.format(metrics.accuracy_score(y, stratified_cv(X, y, ensemble.GradientBoostingClassifier))))\n",
        "print('Random Forest :      {:.4f}'.format(metrics.accuracy_score(y, stratified_cv(X, y, ensemble.RandomForestClassifier))))\n"
      ],
      "execution_count": 172,
      "outputs": [
        {
          "output_type": "stream",
          "text": [
            "Gradient Boosting :  0.9529\n",
            "Random Forest :      0.9388\n"
          ],
          "name": "stdout"
        }
      ]
    },
    {
      "metadata": {
        "id": "3i3lYOMKgkH_",
        "colab_type": "code",
        "colab": {
          "base_uri": "https://localhost:8080/",
          "height": 176
        },
        "outputId": "aebcda66-be7e-4c61-de0b-b3a6d3ca89ae"
      },
      "cell_type": "code",
      "source": [
        "gbc = ensemble.GradientBoostingClassifier()\n",
        "gbc.fit(X, y)"
      ],
      "execution_count": 173,
      "outputs": [
        {
          "output_type": "execute_result",
          "data": {
            "text/plain": [
              "GradientBoostingClassifier(criterion='friedman_mse', init=None,\n",
              "              learning_rate=0.1, loss='deviance', max_depth=3,\n",
              "              max_features=None, max_leaf_nodes=None,\n",
              "              min_impurity_decrease=0.0, min_impurity_split=None,\n",
              "              min_samples_leaf=1, min_samples_split=2,\n",
              "              min_weight_fraction_leaf=0.0, n_estimators=100,\n",
              "              n_iter_no_change=None, presort='auto', random_state=None,\n",
              "              subsample=1.0, tol=0.0001, validation_fraction=0.1,\n",
              "              verbose=0, warm_start=False)"
            ]
          },
          "metadata": {
            "tags": []
          },
          "execution_count": 173
        }
      ]
    },
    {
      "metadata": {
        "id": "ffEnXRANhRI1",
        "colab_type": "code",
        "colab": {
          "base_uri": "https://localhost:8080/",
          "height": 87
        },
        "outputId": "befa6723-16a1-412d-bb1d-ded1261be1d5"
      },
      "cell_type": "code",
      "source": [
        "X[0]"
      ],
      "execution_count": 171,
      "outputs": [
        {
          "output_type": "execute_result",
          "data": {
            "text/plain": [
              "array([-0.6786493 ,  0.67648946, -0.52360328, -0.32758048,  1.6170861 ,\n",
              "        1.23488274,  1.56676695,  0.47664315,  1.56703625, -0.07060962,\n",
              "       -0.05594035, -0.07042665,  0.86674322, -0.46549436,  0.86602851,\n",
              "       -0.08500823, -0.60119509, -0.0856905 , -0.42793202,  0.92585609])"
            ]
          },
          "metadata": {
            "tags": []
          },
          "execution_count": 171
        }
      ]
    },
    {
      "metadata": {
        "id": "olNBVop2hFv0",
        "colab_type": "code",
        "colab": {
          "base_uri": "https://localhost:8080/",
          "height": 158
        },
        "outputId": "716ed7b1-a23f-494d-8bca-24c5373d1034"
      },
      "cell_type": "code",
      "source": [
        "df.columns"
      ],
      "execution_count": 166,
      "outputs": [
        {
          "output_type": "execute_result",
          "data": {
            "text/plain": [
              "Index(['state', 'account length', 'area code', 'international plan',\n",
              "       'voice mail plan', 'number vmail messages', 'total day minutes',\n",
              "       'total day calls', 'total day charge', 'total eve minutes',\n",
              "       'total eve calls', 'total eve charge', 'total night minutes',\n",
              "       'total night calls', 'total night charge', 'total intl minutes',\n",
              "       'total intl calls', 'total intl charge', 'customer service calls',\n",
              "       'second1'],\n",
              "      dtype='object')"
            ]
          },
          "metadata": {
            "tags": []
          },
          "execution_count": 166
        }
      ]
    },
    {
      "metadata": {
        "id": "Ilv_3uIeglZM",
        "colab_type": "code",
        "colab": {
          "base_uri": "https://localhost:8080/",
          "height": 706
        },
        "outputId": "da93437e-636f-4d43-a60b-341c1ad00483"
      },
      "cell_type": "code",
      "source": [
        "feature_importance = gbc.feature_importances_\n",
        "feat_importances = pd.Series(gbc.feature_importances_, index=df.columns)\n",
        "feat_importances = feat_importances.nlargest(21)\n",
        "feat_importances.plot(kind='bar' , figsize=(10,10)) "
      ],
      "execution_count": 177,
      "outputs": [
        {
          "output_type": "execute_result",
          "data": {
            "text/plain": [
              "<matplotlib.axes._subplots.AxesSubplot at 0x7fbc8611b128>"
            ]
          },
          "metadata": {
            "tags": []
          },
          "execution_count": 177
        },
        {
          "output_type": "display_data",
          "data": {
            "image/png": "[encoded data removed]",
            "text/plain": [
              "<Figure size 720x720 with 1 Axes>"
            ]
          },
          "metadata": {
            "tags": []
          }
        }
      ]
    },
    {
      "metadata": {
        "id": "PQJ5FwUQOIiZ",
        "colab_type": "code",
        "colab": {}
      },
      "cell_type": "code",
      "source": [
        "# df = df.drop([\"Id\",\"Churn\"], axis = 1, inplace=True)\n",
        "df.drop([\"phone number\",\"second\",\"churn\"], axis = 1, inplace=True)"
      ],
      "execution_count": 0,
      "outputs": []
    },
    {
      "metadata": {
        "id": "76v2UnJ6ONPo",
        "colab_type": "code",
        "colab": {}
      },
      "cell_type": "code",
      "source": [
        "X = df.as_matrix().astype(np.float)"
      ],
      "execution_count": 0,
      "outputs": []
    },
    {
      "metadata": {
        "id": "sDOCbHjqSCer",
        "colab_type": "code",
        "colab": {}
      },
      "cell_type": "code",
      "source": [
        "scaler = preprocessing.StandardScaler()\n",
        "X = scaler.fit_transform(X)"
      ],
      "execution_count": 0,
      "outputs": []
    },
    {
      "metadata": {
        "id": "EFWYm6WCOdtK",
        "colab_type": "code",
        "colab": {}
      },
      "cell_type": "code",
      "source": [
        ""
      ],
      "execution_count": 0,
      "outputs": []
    },
    {
      "metadata": {
        "id": "F2P3rH0OgY1n",
        "colab_type": "code",
        "outputId": "5c41d0fc-6c8c-4b70-e6f8-741acfbb7346",
        "colab": {
          "base_uri": "https://localhost:8080/",
          "height": 34
        }
      },
      "cell_type": "code",
      "source": [
        "max_coordinate_value(the_dict,0)"
      ],
      "execution_count": 0,
      "outputs": [
        {
          "output_type": "execute_result",
          "data": {
            "text/plain": [
              "5"
            ]
          },
          "metadata": {
            "tags": []
          },
          "execution_count": 87
        }
      ]
    },
    {
      "metadata": {
        "id": "CvaSUVTYhJ0-",
        "colab_type": "code",
        "colab": {}
      },
      "cell_type": "code",
      "source": [
        ""
      ],
      "execution_count": 0,
      "outputs": []
    },
    {
      "metadata": {
        "id": "pwd60S7MrCrZ",
        "colab_type": "code",
        "outputId": "aece37ae-93d9-439e-82ea-369e4b2cbb50",
        "colab": {
          "base_uri": "https://localhost:8080/",
          "height": 68
        }
      },
      "cell_type": "code",
      "source": [
        "code = encode_message(\"Hello, World!\", 12345)\n",
        "decode_message(code, 12345)"
      ],
      "execution_count": 0,
      "outputs": [
        {
          "output_type": "stream",
          "text": [
            "Character , not encoded, set to 99999\n",
            "Character ! not encoded, set to 99999\n"
          ],
          "name": "stdout"
        },
        {
          "output_type": "execute_result",
          "data": {
            "text/plain": [
              "'HELLO@ WORLD@'"
            ]
          },
          "metadata": {
            "tags": []
          },
          "execution_count": 141
        }
      ]
    },
    {
      "metadata": {
        "id": "_ACeAVTnf_in",
        "colab_type": "code",
        "outputId": "0e5ecbec-0eca-492d-fc85-63864a7007ea",
        "colab": {
          "base_uri": "https://localhost:8080/",
          "height": 68
        }
      },
      "cell_type": "code",
      "source": [
        "for a in 'dsd':\n",
        "  print(a)"
      ],
      "execution_count": 0,
      "outputs": [
        {
          "output_type": "stream",
          "text": [
            "d\n",
            "s\n",
            "d\n"
          ],
          "name": "stdout"
        }
      ]
    },
    {
      "metadata": {
        "id": "qttR99ediyCo",
        "colab_type": "code",
        "colab": {}
      },
      "cell_type": "code",
      "source": [
        ""
      ],
      "execution_count": 0,
      "outputs": []
    },
    {
      "metadata": {
        "id": "dFnmma6Iiwhb",
        "colab_type": "code",
        "colab": {}
      },
      "cell_type": "code",
      "source": [
        ""
      ],
      "execution_count": 0,
      "outputs": []
    },
    {
      "metadata": {
        "id": "rZ9V6VzZivmd",
        "colab_type": "code",
        "colab": {}
      },
      "cell_type": "code",
      "source": [
        ""
      ],
      "execution_count": 0,
      "outputs": []
    },
    {
      "metadata": {
        "id": "9vyPSY-kf_ru",
        "colab_type": "code",
        "colab": {}
      },
      "cell_type": "code",
      "source": [
        ""
      ],
      "execution_count": 0,
      "outputs": []
    },
    {
      "metadata": {
        "id": "eb0T7sEmf_u-",
        "colab_type": "code",
        "colab": {}
      },
      "cell_type": "code",
      "source": [
        ""
      ],
      "execution_count": 0,
      "outputs": []
    },
    {
      "metadata": {
        "id": "E00ee_7Lwj-E",
        "colab_type": "code",
        "colab": {}
      },
      "cell_type": "code",
      "source": [
        "import numpy as np\n",
        "import pandas as pd\n",
        "import seaborn as sns\n",
        "import matplotlib.pyplot as plt\n",
        "%matplotlib inline\n",
        "from sklearn.feature_extraction.text import CountVectorizer\n",
        "import itertools  "
      ],
      "execution_count": 0,
      "outputs": []
    },
    {
      "metadata": {
        "id": "oP9nNG9uM9gf",
        "colab_type": "code",
        "outputId": "ed528b8c-cd0c-4c1a-d5ad-febb9b0fb34e",
        "colab": {
          "base_uri": "https://localhost:8080/",
          "height": 153
        }
      },
      "cell_type": "code",
      "source": [
        "!pip install -q fuzzywuzzy\n",
        "!pip install StringDist"
      ],
      "execution_count": 0,
      "outputs": [
        {
          "output_type": "stream",
          "text": [
            "Collecting StringDist\n",
            "  Downloading https://files.pythonhosted.org/packages/85/f0/c56cbe92b4b06fbc7adaa81917ad34d7027834e166fff2d2db73961c67fa/StringDist-1.0.9.tar.gz\n",
            "Building wheels for collected packages: StringDist\n",
            "  Building wheel for StringDist (setup.py) ... \u001b[?25ldone\n",
            "\u001b[?25h  Stored in directory: /root/.cache/pip/wheels/c3/1b/bb/bf0de4d64d8ca38759811fe3353e441f12feb606fb3d1d2e11\n",
            "Successfully built StringDist\n",
            "Installing collected packages: StringDist\n",
            "Successfully installed StringDist-1.0.9\n"
          ],
          "name": "stdout"
        }
      ]
    },
    {
      "metadata": {
        "id": "eRenQUlEM5Kd",
        "colab_type": "code",
        "outputId": "1b595018-df5e-4cb3-aec2-6e78f31de671",
        "colab": {
          "base_uri": "https://localhost:8080/",
          "height": 71
        }
      },
      "cell_type": "code",
      "source": [
        "# fuzz is used to compare TWO strings\n",
        "from fuzzywuzzy import fuzz\n",
        "\n",
        "# process is used to compare a string to MULTIPLE other strings\n",
        "from fuzzywuzzy import process"
      ],
      "execution_count": 0,
      "outputs": [
        {
          "output_type": "stream",
          "text": [
            "/usr/local/lib/python3.6/dist-packages/fuzzywuzzy/fuzz.py:11: UserWarning: Using slow pure-python SequenceMatcher. Install python-Levenshtein to remove this warning\n",
            "  warnings.warn('Using slow pure-python SequenceMatcher. Install python-Levenshtein to remove this warning')\n"
          ],
          "name": "stderr"
        }
      ]
    },
    {
      "metadata": {
        "id": "zEvz8kpCP4Bw",
        "colab_type": "code",
        "colab": {}
      },
      "cell_type": "code",
      "source": [
        "import stringdist"
      ],
      "execution_count": 0,
      "outputs": []
    },
    {
      "metadata": {
        "id": "gYQemG9Sv3NS",
        "colab_type": "code",
        "colab": {}
      },
      "cell_type": "code",
      "source": [
        "df = pd.read_csv('train.csv')"
      ],
      "execution_count": 0,
      "outputs": []
    },
    {
      "metadata": {
        "id": "Zn54MzADEMla",
        "colab_type": "code",
        "outputId": "841d9ae8-5e1d-495a-e536-869b8856d540",
        "colab": {
          "base_uri": "https://localhost:8080/",
          "height": 830
        }
      },
      "cell_type": "code",
      "source": [
        "df1 = pd.read_csv('test.csv')"
      ],
      "execution_count": 0,
      "outputs": [
        {
          "output_type": "error",
          "ename": "ParserError",
          "evalue": "ignored",
          "traceback": [
            "\u001b[0;31m---------------------------------------------------------------------------\u001b[0m",
            "\u001b[0;31mParserError\u001b[0m                               Traceback (most recent call last)",
            "\u001b[0;32m<ipython-input-82-c8309cfcce86>\u001b[0m in \u001b[0;36m<module>\u001b[0;34m()\u001b[0m\n\u001b[0;32m----> 1\u001b[0;31m \u001b[0mdf1\u001b[0m \u001b[0;34m=\u001b[0m \u001b[0mpd\u001b[0m\u001b[0;34m.\u001b[0m\u001b[0mread_csv\u001b[0m\u001b[0;34m(\u001b[0m\u001b[0;34m'test.csv'\u001b[0m\u001b[0;34m)\u001b[0m\u001b[0;34m\u001b[0m\u001b[0;34m\u001b[0m\u001b[0m\n\u001b[0m",
            "\u001b[0;32m/usr/local/lib/python3.6/dist-packages/pandas/io/parsers.py\u001b[0m in \u001b[0;36mparser_f\u001b[0;34m(filepath_or_buffer, sep, delimiter, header, names, index_col, usecols, squeeze, prefix, mangle_dupe_cols, dtype, engine, converters, true_values, false_values, skipinitialspace, skiprows, nrows, na_values, keep_default_na, na_filter, verbose, skip_blank_lines, parse_dates, infer_datetime_format, keep_date_col, date_parser, dayfirst, iterator, chunksize, compression, thousands, decimal, lineterminator, quotechar, quoting, escapechar, comment, encoding, dialect, tupleize_cols, error_bad_lines, warn_bad_lines, skipfooter, skip_footer, doublequote, delim_whitespace, as_recarray, compact_ints, use_unsigned, low_memory, buffer_lines, memory_map, float_precision)\u001b[0m\n\u001b[1;32m    707\u001b[0m                     skip_blank_lines=skip_blank_lines)\n\u001b[1;32m    708\u001b[0m \u001b[0;34m\u001b[0m\u001b[0m\n\u001b[0;32m--> 709\u001b[0;31m         \u001b[0;32mreturn\u001b[0m \u001b[0m_read\u001b[0m\u001b[0;34m(\u001b[0m\u001b[0mfilepath_or_buffer\u001b[0m\u001b[0;34m,\u001b[0m \u001b[0mkwds\u001b[0m\u001b[0;34m)\u001b[0m\u001b[0;34m\u001b[0m\u001b[0;34m\u001b[0m\u001b[0m\n\u001b[0m\u001b[1;32m    710\u001b[0m \u001b[0;34m\u001b[0m\u001b[0m\n\u001b[1;32m    711\u001b[0m     \u001b[0mparser_f\u001b[0m\u001b[0;34m.\u001b[0m\u001b[0m__name__\u001b[0m \u001b[0;34m=\u001b[0m \u001b[0mname\u001b[0m\u001b[0;34m\u001b[0m\u001b[0;34m\u001b[0m\u001b[0m\n",
            "\u001b[0;32m/usr/local/lib/python3.6/dist-packages/pandas/io/parsers.py\u001b[0m in \u001b[0;36m_read\u001b[0;34m(filepath_or_buffer, kwds)\u001b[0m\n\u001b[1;32m    453\u001b[0m \u001b[0;34m\u001b[0m\u001b[0m\n\u001b[1;32m    454\u001b[0m     \u001b[0;32mtry\u001b[0m\u001b[0;34m:\u001b[0m\u001b[0;34m\u001b[0m\u001b[0;34m\u001b[0m\u001b[0m\n\u001b[0;32m--> 455\u001b[0;31m         \u001b[0mdata\u001b[0m \u001b[0;34m=\u001b[0m \u001b[0mparser\u001b[0m\u001b[0;34m.\u001b[0m\u001b[0mread\u001b[0m\u001b[0;34m(\u001b[0m\u001b[0mnrows\u001b[0m\u001b[0;34m)\u001b[0m\u001b[0;34m\u001b[0m\u001b[0;34m\u001b[0m\u001b[0m\n\u001b[0m\u001b[1;32m    456\u001b[0m     \u001b[0;32mfinally\u001b[0m\u001b[0;34m:\u001b[0m\u001b[0;34m\u001b[0m\u001b[0;34m\u001b[0m\u001b[0m\n\u001b[1;32m    457\u001b[0m         \u001b[0mparser\u001b[0m\u001b[0;34m.\u001b[0m\u001b[0mclose\u001b[0m\u001b[0;34m(\u001b[0m\u001b[0;34m)\u001b[0m\u001b[0;34m\u001b[0m\u001b[0;34m\u001b[0m\u001b[0m\n",
            "\u001b[0;32m/usr/local/lib/python3.6/dist-packages/pandas/io/parsers.py\u001b[0m in \u001b[0;36mread\u001b[0;34m(self, nrows)\u001b[0m\n\u001b[1;32m   1067\u001b[0m                 \u001b[0;32mraise\u001b[0m \u001b[0mValueError\u001b[0m\u001b[0;34m(\u001b[0m\u001b[0;34m'skipfooter not supported for iteration'\u001b[0m\u001b[0;34m)\u001b[0m\u001b[0;34m\u001b[0m\u001b[0;34m\u001b[0m\u001b[0m\n\u001b[1;32m   1068\u001b[0m \u001b[0;34m\u001b[0m\u001b[0m\n\u001b[0;32m-> 1069\u001b[0;31m         \u001b[0mret\u001b[0m \u001b[0;34m=\u001b[0m \u001b[0mself\u001b[0m\u001b[0;34m.\u001b[0m\u001b[0m_engine\u001b[0m\u001b[0;34m.\u001b[0m\u001b[0mread\u001b[0m\u001b[0;34m(\u001b[0m\u001b[0mnrows\u001b[0m\u001b[0;34m)\u001b[0m\u001b[0;34m\u001b[0m\u001b[0;34m\u001b[0m\u001b[0m\n\u001b[0m\u001b[1;32m   1070\u001b[0m \u001b[0;34m\u001b[0m\u001b[0m\n\u001b[1;32m   1071\u001b[0m         \u001b[0;32mif\u001b[0m \u001b[0mself\u001b[0m\u001b[0;34m.\u001b[0m\u001b[0moptions\u001b[0m\u001b[0;34m.\u001b[0m\u001b[0mget\u001b[0m\u001b[0;34m(\u001b[0m\u001b[0;34m'as_recarray'\u001b[0m\u001b[0;34m)\u001b[0m\u001b[0;34m:\u001b[0m\u001b[0;34m\u001b[0m\u001b[0;34m\u001b[0m\u001b[0m\n",
            "\u001b[0;32m/usr/local/lib/python3.6/dist-packages/pandas/io/parsers.py\u001b[0m in \u001b[0;36mread\u001b[0;34m(self, nrows)\u001b[0m\n\u001b[1;32m   1837\u001b[0m     \u001b[0;32mdef\u001b[0m \u001b[0mread\u001b[0m\u001b[0;34m(\u001b[0m\u001b[0mself\u001b[0m\u001b[0;34m,\u001b[0m \u001b[0mnrows\u001b[0m\u001b[0;34m=\u001b[0m\u001b[0;32mNone\u001b[0m\u001b[0;34m)\u001b[0m\u001b[0;34m:\u001b[0m\u001b[0;34m\u001b[0m\u001b[0;34m\u001b[0m\u001b[0m\n\u001b[1;32m   1838\u001b[0m         \u001b[0;32mtry\u001b[0m\u001b[0;34m:\u001b[0m\u001b[0;34m\u001b[0m\u001b[0;34m\u001b[0m\u001b[0m\n\u001b[0;32m-> 1839\u001b[0;31m             \u001b[0mdata\u001b[0m \u001b[0;34m=\u001b[0m \u001b[0mself\u001b[0m\u001b[0;34m.\u001b[0m\u001b[0m_reader\u001b[0m\u001b[0;34m.\u001b[0m\u001b[0mread\u001b[0m\u001b[0;34m(\u001b[0m\u001b[0mnrows\u001b[0m\u001b[0;34m)\u001b[0m\u001b[0;34m\u001b[0m\u001b[0;34m\u001b[0m\u001b[0m\n\u001b[0m\u001b[1;32m   1840\u001b[0m         \u001b[0;32mexcept\u001b[0m \u001b[0mStopIteration\u001b[0m\u001b[0;34m:\u001b[0m\u001b[0;34m\u001b[0m\u001b[0;34m\u001b[0m\u001b[0m\n\u001b[1;32m   1841\u001b[0m             \u001b[0;32mif\u001b[0m \u001b[0mself\u001b[0m\u001b[0;34m.\u001b[0m\u001b[0m_first_chunk\u001b[0m\u001b[0;34m:\u001b[0m\u001b[0;34m\u001b[0m\u001b[0;34m\u001b[0m\u001b[0m\n",
            "\u001b[0;32mpandas/_libs/parsers.pyx\u001b[0m in \u001b[0;36mpandas._libs.parsers.TextReader.read\u001b[0;34m()\u001b[0m\n",
            "\u001b[0;32mpandas/_libs/parsers.pyx\u001b[0m in \u001b[0;36mpandas._libs.parsers.TextReader._read_low_memory\u001b[0;34m()\u001b[0m\n",
            "\u001b[0;32mpandas/_libs/parsers.pyx\u001b[0m in \u001b[0;36mpandas._libs.parsers.TextReader._read_rows\u001b[0;34m()\u001b[0m\n",
            "\u001b[0;32mpandas/_libs/parsers.pyx\u001b[0m in \u001b[0;36mpandas._libs.parsers.TextReader._tokenize_rows\u001b[0;34m()\u001b[0m\n",
            "\u001b[0;32mpandas/_libs/parsers.pyx\u001b[0m in \u001b[0;36mpandas._libs.parsers.raise_parser_error\u001b[0;34m()\u001b[0m\n",
            "\u001b[0;31mParserError\u001b[0m: Error tokenizing data. C error: EOF inside string starting at line 378410"
          ]
        }
      ]
    },
    {
      "metadata": {
        "id": "I__xk_TiwCM1",
        "colab_type": "code",
        "outputId": "19e7737d-a6ab-4784-821f-8d53ecdfe704",
        "colab": {
          "base_uri": "https://localhost:8080/",
          "height": 204
        }
      },
      "cell_type": "code",
      "source": [
        "df.head()"
      ],
      "execution_count": 0,
      "outputs": [
        {
          "output_type": "execute_result",
          "data": {
            "text/html": [
              "<div>\n",
              "<style scoped>\n",
              "    .dataframe tbody tr th:only-of-type {\n",
              "        vertical-align: middle;\n",
              "    }\n",
              "\n",
              "    .dataframe tbody tr th {\n",
              "        vertical-align: top;\n",
              "    }\n",
              "\n",
              "    .dataframe thead th {\n",
              "        text-align: right;\n",
              "    }\n",
              "</style>\n",
              "<table border=\"1\" class=\"dataframe\">\n",
              "  <thead>\n",
              "    <tr style=\"text-align: right;\">\n",
              "      <th></th>\n",
              "      <th>id</th>\n",
              "      <th>qid1</th>\n",
              "      <th>qid2</th>\n",
              "      <th>question1</th>\n",
              "      <th>question2</th>\n",
              "      <th>is_duplicate</th>\n",
              "    </tr>\n",
              "  </thead>\n",
              "  <tbody>\n",
              "    <tr>\n",
              "      <th>0</th>\n",
              "      <td>0</td>\n",
              "      <td>1</td>\n",
              "      <td>2</td>\n",
              "      <td>What is the step by step guide to invest in sh...</td>\n",
              "      <td>What is the step by step guide to invest in sh...</td>\n",
              "      <td>0</td>\n",
              "    </tr>\n",
              "    <tr>\n",
              "      <th>1</th>\n",
              "      <td>1</td>\n",
              "      <td>3</td>\n",
              "      <td>4</td>\n",
              "      <td>What is the story of Kohinoor (Koh-i-Noor) Dia...</td>\n",
              "      <td>What would happen if the Indian government sto...</td>\n",
              "      <td>0</td>\n",
              "    </tr>\n",
              "    <tr>\n",
              "      <th>2</th>\n",
              "      <td>2</td>\n",
              "      <td>5</td>\n",
              "      <td>6</td>\n",
              "      <td>How can I increase the speed of my internet co...</td>\n",
              "      <td>How can Internet speed be increased by hacking...</td>\n",
              "      <td>0</td>\n",
              "    </tr>\n",
              "    <tr>\n",
              "      <th>3</th>\n",
              "      <td>3</td>\n",
              "      <td>7</td>\n",
              "      <td>8</td>\n",
              "      <td>Why am I mentally very lonely? How can I solve...</td>\n",
              "      <td>Find the remainder when [math]23^{24}[/math] i...</td>\n",
              "      <td>0</td>\n",
              "    </tr>\n",
              "    <tr>\n",
              "      <th>4</th>\n",
              "      <td>4</td>\n",
              "      <td>9</td>\n",
              "      <td>10</td>\n",
              "      <td>Which one dissolve in water quikly sugar, salt...</td>\n",
              "      <td>Which fish would survive in salt water?</td>\n",
              "      <td>0</td>\n",
              "    </tr>\n",
              "  </tbody>\n",
              "</table>\n",
              "</div>"
            ],
            "text/plain": [
              "   id  qid1  qid2                                          question1  \\\n",
              "0   0     1     2  What is the step by step guide to invest in sh...   \n",
              "1   1     3     4  What is the story of Kohinoor (Koh-i-Noor) Dia...   \n",
              "2   2     5     6  How can I increase the speed of my internet co...   \n",
              "3   3     7     8  Why am I mentally very lonely? How can I solve...   \n",
              "4   4     9    10  Which one dissolve in water quikly sugar, salt...   \n",
              "\n",
              "                                           question2  is_duplicate  \n",
              "0  What is the step by step guide to invest in sh...             0  \n",
              "1  What would happen if the Indian government sto...             0  \n",
              "2  How can Internet speed be increased by hacking...             0  \n",
              "3  Find the remainder when [math]23^{24}[/math] i...             0  \n",
              "4            Which fish would survive in salt water?             0  "
            ]
          },
          "metadata": {
            "tags": []
          },
          "execution_count": 5
        }
      ]
    },
    {
      "metadata": {
        "id": "pHv7YxAbwFiT",
        "colab_type": "code",
        "outputId": "8700c7e2-8973-40bd-da2c-0bf929536d08",
        "colab": {
          "base_uri": "https://localhost:8080/",
          "height": 292
        }
      },
      "cell_type": "code",
      "source": [
        "\n",
        "\n",
        "df.dropna(axis=0, inplace=True)\n",
        "df.groupby(\"is_duplicate\")['id'].count().plot.bar()\n"
      ],
      "execution_count": 0,
      "outputs": [
        {
          "output_type": "execute_result",
          "data": {
            "text/plain": [
              "<matplotlib.axes._subplots.AxesSubplot at 0x7fab6d153f28>"
            ]
          },
          "metadata": {
            "tags": []
          },
          "execution_count": 6
        },
        {
          "output_type": "display_data",
          "data": {
            "image/png": "[encoded data removed]",
            "text/plain": [
              "<Figure size 432x288 with 1 Axes>"
            ]
          },
          "metadata": {
            "tags": []
          }
        }
      ]
    },
    {
      "metadata": {
        "id": "tqNXsGLxwg8u",
        "colab_type": "code",
        "colab": {}
      },
      "cell_type": "code",
      "source": [
        "# df.drop(['id', 'qid1', 'qid2'], axis=1, inplace=True)\n",
        "df.drop(['ration'], axis=1, inplace=True)"
      ],
      "execution_count": 0,
      "outputs": []
    },
    {
      "metadata": {
        "id": "2XiBW306Swme",
        "colab_type": "code",
        "colab": {}
      },
      "cell_type": "code",
      "source": [
        "corpus = [\n",
        "      'This is the first document.',\n",
        "      'This document is the second document.',\n",
        "      'And this is the third one.',\n",
        "      'Is this the first document?',\n",
        "  ]\n",
        "vectorizer = CountVectorizer()\n",
        "X = vectorizer.fit_transform(corpus)"
      ],
      "execution_count": 0,
      "outputs": []
    },
    {
      "metadata": {
        "id": "GsoHq6QfS42H",
        "colab_type": "code",
        "outputId": "279503da-06b8-4950-9df4-a1fea7768995",
        "colab": {
          "base_uri": "https://localhost:8080/",
          "height": 283
        }
      },
      "cell_type": "code",
      "source": [
        "X.toarray()"
      ],
      "execution_count": 0,
      "outputs": [
        {
          "output_type": "error",
          "ename": "AttributeError",
          "evalue": "ignored",
          "traceback": [
            "\u001b[0;31m---------------------------------------------------------------------------\u001b[0m",
            "\u001b[0;31mAttributeError\u001b[0m                            Traceback (most recent call last)",
            "\u001b[0;32m<ipython-input-49-4f7870593fe9>\u001b[0m in \u001b[0;36m<module>\u001b[0;34m()\u001b[0m\n\u001b[0;32m----> 1\u001b[0;31m \u001b[0mX\u001b[0m\u001b[0;34m.\u001b[0m\u001b[0mbuild_analyzer\u001b[0m\u001b[0;34m(\u001b[0m\u001b[0;34m)\u001b[0m\u001b[0;34m\u001b[0m\u001b[0;34m\u001b[0m\u001b[0m\n\u001b[0m",
            "\u001b[0;32m/usr/local/lib/python3.6/dist-packages/scipy/sparse/base.py\u001b[0m in \u001b[0;36m__getattr__\u001b[0;34m(self, attr)\u001b[0m\n\u001b[1;32m    684\u001b[0m             \u001b[0;32mreturn\u001b[0m \u001b[0mself\u001b[0m\u001b[0;34m.\u001b[0m\u001b[0mgetnnz\u001b[0m\u001b[0;34m(\u001b[0m\u001b[0;34m)\u001b[0m\u001b[0;34m\u001b[0m\u001b[0;34m\u001b[0m\u001b[0m\n\u001b[1;32m    685\u001b[0m         \u001b[0;32melse\u001b[0m\u001b[0;34m:\u001b[0m\u001b[0;34m\u001b[0m\u001b[0;34m\u001b[0m\u001b[0m\n\u001b[0;32m--> 686\u001b[0;31m             \u001b[0;32mraise\u001b[0m \u001b[0mAttributeError\u001b[0m\u001b[0;34m(\u001b[0m\u001b[0mattr\u001b[0m \u001b[0;34m+\u001b[0m \u001b[0;34m\" not found\"\u001b[0m\u001b[0;34m)\u001b[0m\u001b[0;34m\u001b[0m\u001b[0;34m\u001b[0m\u001b[0m\n\u001b[0m\u001b[1;32m    687\u001b[0m \u001b[0;34m\u001b[0m\u001b[0m\n\u001b[1;32m    688\u001b[0m     \u001b[0;32mdef\u001b[0m \u001b[0mtranspose\u001b[0m\u001b[0;34m(\u001b[0m\u001b[0mself\u001b[0m\u001b[0;34m,\u001b[0m \u001b[0maxes\u001b[0m\u001b[0;34m=\u001b[0m\u001b[0;32mNone\u001b[0m\u001b[0;34m,\u001b[0m \u001b[0mcopy\u001b[0m\u001b[0;34m=\u001b[0m\u001b[0;32mFalse\u001b[0m\u001b[0;34m)\u001b[0m\u001b[0;34m:\u001b[0m\u001b[0;34m\u001b[0m\u001b[0;34m\u001b[0m\u001b[0m\n",
            "\u001b[0;31mAttributeError\u001b[0m: build_analyzer not found"
          ]
        }
      ]
    },
    {
      "metadata": {
        "id": "uGCGwv0nHJoW",
        "colab_type": "code",
        "colab": {}
      },
      "cell_type": "code",
      "source": [
        "def st(s):\n",
        "  return s.strip()\n",
        "df['len1'] = df['question1'].apply(len)"
      ],
      "execution_count": 0,
      "outputs": []
    },
    {
      "metadata": {
        "id": "pkPa_jnHJ9Pd",
        "colab_type": "code",
        "colab": {}
      },
      "cell_type": "code",
      "source": [
        "df['len2'] = df['question2'].apply(len)"
      ],
      "execution_count": 0,
      "outputs": []
    },
    {
      "metadata": {
        "id": "TcSz77DDNUec",
        "colab_type": "code",
        "colab": {}
      },
      "cell_type": "code",
      "source": [
        "def f_ratio(x):\n",
        "  return fuzz.ratio(x['question1'],x['question2'])\n",
        "def f_partial_ratio(x):\n",
        "  return fuzz.partial_ratio(x['question1'],x['question2'])\n",
        "def f_token_sort_ratio(x):\n",
        "  return fuzz.token_sort_ratio(x['question1'],x['question2'])\n",
        "def ldist(x):\n",
        "  return stringdist.levenshtein(x['question1'],x['question2'])\n",
        "def countv(x):\n",
        "  vectorizer = CountVectorizer()\n",
        "  X = vectorizer.fit_transform(x[0])\n",
        "  return X.toarray()\n",
        "\n",
        "#df['ratio'] = df.apply(f_ratio, axis=1)"
      ],
      "execution_count": 0,
      "outputs": []
    },
    {
      "metadata": {
        "id": "GjZPZEJWO0Z0",
        "colab_type": "code",
        "colab": {}
      },
      "cell_type": "code",
      "source": [
        "vectorizer = CountVectorizer()\n",
        "X = vectorizer.fit_transform(df['question1'])\n",
        "df['count_v1'] = list(X)"
      ],
      "execution_count": 0,
      "outputs": []
    },
    {
      "metadata": {
        "id": "nqw9teZEeVZ_",
        "colab_type": "code",
        "colab": {}
      },
      "cell_type": "code",
      "source": [
        "vectorizer = CountVectorizer()\n",
        "X = vectorizer.fit_transform(df['question2'])\n",
        "df['count_v2'] = list(X)"
      ],
      "execution_count": 0,
      "outputs": []
    },
    {
      "metadata": {
        "id": "Q9VpCjHpOyan",
        "colab_type": "code",
        "outputId": "9d2983f7-c5b0-4c92-e000-5dd517196d00",
        "colab": {
          "base_uri": "https://localhost:8080/",
          "height": 487
        }
      },
      "cell_type": "code",
      "source": [
        "df['ldist'] = df.apply(ldist, axis=1)\n",
        "df['ratio'] = df.apply(f_partial_ratio, axis=1)\n",
        "df['token_sort_ratio'] = df.apply(f_token_sort_ratio, axis=1)\n",
        "df['count_v1'] = df['question1'].apply(countv, axis=1)\n",
        "df['count_v2'] = df['question2'].apply(countv, axis=1)"
      ],
      "execution_count": 0,
      "outputs": [
        {
          "output_type": "error",
          "ename": "TypeError",
          "evalue": "ignored",
          "traceback": [
            "\u001b[0;31m---------------------------------------------------------------------------\u001b[0m",
            "\u001b[0;31mTypeError\u001b[0m                                 Traceback (most recent call last)",
            "\u001b[0;32m<ipython-input-55-41bf6695e3c1>\u001b[0m in \u001b[0;36m<module>\u001b[0;34m()\u001b[0m\n\u001b[1;32m      2\u001b[0m \u001b[0mdf\u001b[0m\u001b[0;34m[\u001b[0m\u001b[0;34m'ratio'\u001b[0m\u001b[0;34m]\u001b[0m \u001b[0;34m=\u001b[0m \u001b[0mdf\u001b[0m\u001b[0;34m.\u001b[0m\u001b[0mapply\u001b[0m\u001b[0;34m(\u001b[0m\u001b[0mf_partial_ratio\u001b[0m\u001b[0;34m,\u001b[0m \u001b[0maxis\u001b[0m\u001b[0;34m=\u001b[0m\u001b[0;36m1\u001b[0m\u001b[0;34m)\u001b[0m\u001b[0;34m\u001b[0m\u001b[0;34m\u001b[0m\u001b[0m\n\u001b[1;32m      3\u001b[0m \u001b[0mdf\u001b[0m\u001b[0;34m[\u001b[0m\u001b[0;34m'token_sort_ratio'\u001b[0m\u001b[0;34m]\u001b[0m \u001b[0;34m=\u001b[0m \u001b[0mdf\u001b[0m\u001b[0;34m.\u001b[0m\u001b[0mapply\u001b[0m\u001b[0;34m(\u001b[0m\u001b[0mf_token_sort_ratio\u001b[0m\u001b[0;34m,\u001b[0m \u001b[0maxis\u001b[0m\u001b[0;34m=\u001b[0m\u001b[0;36m1\u001b[0m\u001b[0;34m)\u001b[0m\u001b[0;34m\u001b[0m\u001b[0;34m\u001b[0m\u001b[0m\n\u001b[0;32m----> 4\u001b[0;31m \u001b[0mdf\u001b[0m\u001b[0;34m[\u001b[0m\u001b[0;34m'count_v1'\u001b[0m\u001b[0;34m]\u001b[0m \u001b[0;34m=\u001b[0m \u001b[0mdf\u001b[0m\u001b[0;34m[\u001b[0m\u001b[0;34m'question1'\u001b[0m\u001b[0;34m]\u001b[0m\u001b[0;34m.\u001b[0m\u001b[0mapply\u001b[0m\u001b[0;34m(\u001b[0m\u001b[0mcountv\u001b[0m\u001b[0;34m,\u001b[0m \u001b[0maxis\u001b[0m\u001b[0;34m=\u001b[0m\u001b[0;36m1\u001b[0m\u001b[0;34m)\u001b[0m\u001b[0;34m\u001b[0m\u001b[0;34m\u001b[0m\u001b[0m\n\u001b[0m\u001b[1;32m      5\u001b[0m \u001b[0mdf\u001b[0m\u001b[0;34m[\u001b[0m\u001b[0;34m'count_v2'\u001b[0m\u001b[0;34m]\u001b[0m \u001b[0;34m=\u001b[0m \u001b[0mdf\u001b[0m\u001b[0;34m[\u001b[0m\u001b[0;34m'question2'\u001b[0m\u001b[0;34m]\u001b[0m\u001b[0;34m.\u001b[0m\u001b[0mapply\u001b[0m\u001b[0;34m(\u001b[0m\u001b[0mcountv\u001b[0m\u001b[0;34m,\u001b[0m \u001b[0maxis\u001b[0m\u001b[0;34m=\u001b[0m\u001b[0;36m1\u001b[0m\u001b[0;34m)\u001b[0m\u001b[0;34m\u001b[0m\u001b[0;34m\u001b[0m\u001b[0m\n",
            "\u001b[0;32m/usr/local/lib/python3.6/dist-packages/pandas/core/series.py\u001b[0m in \u001b[0;36mapply\u001b[0;34m(self, func, convert_dtype, args, **kwds)\u001b[0m\n\u001b[1;32m   2549\u001b[0m             \u001b[0;32melse\u001b[0m\u001b[0;34m:\u001b[0m\u001b[0;34m\u001b[0m\u001b[0;34m\u001b[0m\u001b[0m\n\u001b[1;32m   2550\u001b[0m                 \u001b[0mvalues\u001b[0m \u001b[0;34m=\u001b[0m \u001b[0mself\u001b[0m\u001b[0;34m.\u001b[0m\u001b[0masobject\u001b[0m\u001b[0;34m\u001b[0m\u001b[0;34m\u001b[0m\u001b[0m\n\u001b[0;32m-> 2551\u001b[0;31m                 \u001b[0mmapped\u001b[0m \u001b[0;34m=\u001b[0m \u001b[0mlib\u001b[0m\u001b[0;34m.\u001b[0m\u001b[0mmap_infer\u001b[0m\u001b[0;34m(\u001b[0m\u001b[0mvalues\u001b[0m\u001b[0;34m,\u001b[0m \u001b[0mf\u001b[0m\u001b[0;34m,\u001b[0m \u001b[0mconvert\u001b[0m\u001b[0;34m=\u001b[0m\u001b[0mconvert_dtype\u001b[0m\u001b[0;34m)\u001b[0m\u001b[0;34m\u001b[0m\u001b[0;34m\u001b[0m\u001b[0m\n\u001b[0m\u001b[1;32m   2552\u001b[0m \u001b[0;34m\u001b[0m\u001b[0m\n\u001b[1;32m   2553\u001b[0m         \u001b[0;32mif\u001b[0m \u001b[0mlen\u001b[0m\u001b[0;34m(\u001b[0m\u001b[0mmapped\u001b[0m\u001b[0;34m)\u001b[0m \u001b[0;32mand\u001b[0m \u001b[0misinstance\u001b[0m\u001b[0;34m(\u001b[0m\u001b[0mmapped\u001b[0m\u001b[0;34m[\u001b[0m\u001b[0;36m0\u001b[0m\u001b[0;34m]\u001b[0m\u001b[0;34m,\u001b[0m \u001b[0mSeries\u001b[0m\u001b[0;34m)\u001b[0m\u001b[0;34m:\u001b[0m\u001b[0;34m\u001b[0m\u001b[0;34m\u001b[0m\u001b[0m\n",
            "\u001b[0;32mpandas/_libs/src/inference.pyx\u001b[0m in \u001b[0;36mpandas._libs.lib.map_infer\u001b[0;34m()\u001b[0m\n",
            "\u001b[0;32m/usr/local/lib/python3.6/dist-packages/pandas/core/series.py\u001b[0m in \u001b[0;36m<lambda>\u001b[0;34m(x)\u001b[0m\n\u001b[1;32m   2536\u001b[0m         \u001b[0;31m# handle ufuncs and lambdas\u001b[0m\u001b[0;34m\u001b[0m\u001b[0;34m\u001b[0m\u001b[0;34m\u001b[0m\u001b[0m\n\u001b[1;32m   2537\u001b[0m         \u001b[0;32mif\u001b[0m \u001b[0mkwds\u001b[0m \u001b[0;32mor\u001b[0m \u001b[0margs\u001b[0m \u001b[0;32mand\u001b[0m \u001b[0;32mnot\u001b[0m \u001b[0misinstance\u001b[0m\u001b[0;34m(\u001b[0m\u001b[0mfunc\u001b[0m\u001b[0;34m,\u001b[0m \u001b[0mnp\u001b[0m\u001b[0;34m.\u001b[0m\u001b[0mufunc\u001b[0m\u001b[0;34m)\u001b[0m\u001b[0;34m:\u001b[0m\u001b[0;34m\u001b[0m\u001b[0;34m\u001b[0m\u001b[0m\n\u001b[0;32m-> 2538\u001b[0;31m             \u001b[0mf\u001b[0m \u001b[0;34m=\u001b[0m \u001b[0;32mlambda\u001b[0m \u001b[0mx\u001b[0m\u001b[0;34m:\u001b[0m \u001b[0mfunc\u001b[0m\u001b[0;34m(\u001b[0m\u001b[0mx\u001b[0m\u001b[0;34m,\u001b[0m \u001b[0;34m*\u001b[0m\u001b[0margs\u001b[0m\u001b[0;34m,\u001b[0m \u001b[0;34m**\u001b[0m\u001b[0mkwds\u001b[0m\u001b[0;34m)\u001b[0m\u001b[0;34m\u001b[0m\u001b[0;34m\u001b[0m\u001b[0m\n\u001b[0m\u001b[1;32m   2539\u001b[0m         \u001b[0;32melse\u001b[0m\u001b[0;34m:\u001b[0m\u001b[0;34m\u001b[0m\u001b[0;34m\u001b[0m\u001b[0m\n\u001b[1;32m   2540\u001b[0m             \u001b[0mf\u001b[0m \u001b[0;34m=\u001b[0m \u001b[0mfunc\u001b[0m\u001b[0;34m\u001b[0m\u001b[0;34m\u001b[0m\u001b[0m\n",
            "\u001b[0;31mTypeError\u001b[0m: countv() got an unexpected keyword argument 'axis'"
          ]
        }
      ]
    },
    {
      "metadata": {
        "id": "d_ehS6S5Igcj",
        "colab_type": "code",
        "outputId": "60df3372-96c9-45b7-eeb2-b54575520340",
        "colab": {
          "base_uri": "https://localhost:8080/",
          "height": 4009
        }
      },
      "cell_type": "code",
      "source": [
        "df.head(100)"
      ],
      "execution_count": 0,
      "outputs": [
        {
          "output_type": "execute_result",
          "data": {
            "text/html": [
              "<div>\n",
              "<style scoped>\n",
              "    .dataframe tbody tr th:only-of-type {\n",
              "        vertical-align: middle;\n",
              "    }\n",
              "\n",
              "    .dataframe tbody tr th {\n",
              "        vertical-align: top;\n",
              "    }\n",
              "\n",
              "    .dataframe thead th {\n",
              "        text-align: right;\n",
              "    }\n",
              "</style>\n",
              "<table border=\"1\" class=\"dataframe\">\n",
              "  <thead>\n",
              "    <tr style=\"text-align: right;\">\n",
              "      <th></th>\n",
              "      <th>question1</th>\n",
              "      <th>question2</th>\n",
              "      <th>is_duplicate</th>\n",
              "      <th>t1</th>\n",
              "      <th>t2</th>\n",
              "      <th>ratio</th>\n",
              "      <th>ldist</th>\n",
              "      <th>token_sort_ratio</th>\n",
              "      <th>count_v1</th>\n",
              "      <th>count_v2</th>\n",
              "    </tr>\n",
              "  </thead>\n",
              "  <tbody>\n",
              "    <tr>\n",
              "      <th>0</th>\n",
              "      <td>What is the step by step guide to invest in sh...</td>\n",
              "      <td>What is the step by step guide to invest in sh...</td>\n",
              "      <td>0</td>\n",
              "      <td>66</td>\n",
              "      <td>57</td>\n",
              "      <td>98</td>\n",
              "      <td>9</td>\n",
              "      <td>93</td>\n",
              "      <td>(0, 30560)\\t1\\n  (0, 37608)\\t1\\n  (0, 54542)...</td>\n",
              "      <td>(0, 34835)\\t1\\n  (0, 50364)\\t1\\n  (0, 28272)...</td>\n",
              "    </tr>\n",
              "    <tr>\n",
              "      <th>1</th>\n",
              "      <td>What is the story of Kohinoor (Koh-i-Noor) Dia...</td>\n",
              "      <td>What would happen if the Indian government sto...</td>\n",
              "      <td>0</td>\n",
              "      <td>51</td>\n",
              "      <td>88</td>\n",
              "      <td>73</td>\n",
              "      <td>43</td>\n",
              "      <td>63</td>\n",
              "      <td>(0, 18290)\\t1\\n  (0, 42229)\\t1\\n  (0, 34200)...</td>\n",
              "      <td>(0, 7051)\\t1\\n  (0, 17079)\\t1\\n  (0, 39028)\\...</td>\n",
              "    </tr>\n",
              "    <tr>\n",
              "      <th>2</th>\n",
              "      <td>How can I increase the speed of my internet co...</td>\n",
              "      <td>How can Internet speed be increased by hacking...</td>\n",
              "      <td>0</td>\n",
              "      <td>73</td>\n",
              "      <td>59</td>\n",
              "      <td>41</td>\n",
              "      <td>40</td>\n",
              "      <td>63</td>\n",
              "      <td>(0, 64928)\\t1\\n  (0, 63630)\\t1\\n  (0, 65806)...</td>\n",
              "      <td>(0, 17913)\\t1\\n  (0, 56019)\\t1\\n  (0, 25386)...</td>\n",
              "    </tr>\n",
              "    <tr>\n",
              "      <th>3</th>\n",
              "      <td>Why am I mentally very lonely? How can I solve...</td>\n",
              "      <td>Find the remainder when [math]23^{24}[/math] i...</td>\n",
              "      <td>0</td>\n",
              "      <td>50</td>\n",
              "      <td>65</td>\n",
              "      <td>20</td>\n",
              "      <td>54</td>\n",
              "      <td>24</td>\n",
              "      <td>(0, 32061)\\t1\\n  (0, 56273)\\t1\\n  (0, 36191)...</td>\n",
              "      <td>(0, 17823)\\t1\\n  (0, 1119)\\t2\\n  (0, 1092)\\t...</td>\n",
              "    </tr>\n",
              "    <tr>\n",
              "      <th>4</th>\n",
              "      <td>Which one dissolve in water quikly sugar, salt...</td>\n",
              "      <td>Which fish would survive in salt water?</td>\n",
              "      <td>0</td>\n",
              "      <td>76</td>\n",
              "      <td>39</td>\n",
              "      <td>54</td>\n",
              "      <td>53</td>\n",
              "      <td>47</td>\n",
              "      <td>(0, 44169)\\t1\\n  (0, 18243)\\t1\\n  (0, 11552)...</td>\n",
              "      <td>(0, 60326)\\t1\\n  (0, 48790)\\t1\\n  (0, 54269)...</td>\n",
              "    </tr>\n",
              "    <tr>\n",
              "      <th>5</th>\n",
              "      <td>Astrology: I am a Capricorn Sun Cap moon and c...</td>\n",
              "      <td>I'm a triple Capricorn (Sun, Moon and ascendan...</td>\n",
              "      <td>1</td>\n",
              "      <td>86</td>\n",
              "      <td>90</td>\n",
              "      <td>67</td>\n",
              "      <td>45</td>\n",
              "      <td>74</td>\n",
              "      <td>(0, 38158)\\t1\\n  (0, 3109)\\t1\\n  (0, 53273)\\...</td>\n",
              "      <td>(0, 35356)\\t1\\n  (0, 3077)\\t1\\n  (0, 49195)\\...</td>\n",
              "    </tr>\n",
              "    <tr>\n",
              "      <th>6</th>\n",
              "      <td>Should I buy tiago?</td>\n",
              "      <td>What keeps childern active and far from phone ...</td>\n",
              "      <td>0</td>\n",
              "      <td>19</td>\n",
              "      <td>62</td>\n",
              "      <td>32</td>\n",
              "      <td>53</td>\n",
              "      <td>23</td>\n",
              "      <td>(0, 60683)\\t1\\n  (0, 10944)\\t1\\n  (0, 54939)\\t1</td>\n",
              "      <td>(0, 23527)\\t1\\n  (0, 59515)\\t1\\n  (0, 42449)...</td>\n",
              "    </tr>\n",
              "    <tr>\n",
              "      <th>7</th>\n",
              "      <td>How can I be a good geologist?</td>\n",
              "      <td>What should I do to be a great geologist?</td>\n",
              "      <td>1</td>\n",
              "      <td>30</td>\n",
              "      <td>41</td>\n",
              "      <td>67</td>\n",
              "      <td>20</td>\n",
              "      <td>61</td>\n",
              "      <td>(0, 25580)\\t1\\n  (0, 26217)\\t1\\n  (0, 8188)\\...</td>\n",
              "      <td>(0, 23921)\\t1\\n  (0, 24814)\\t1\\n  (0, 17916)...</td>\n",
              "    </tr>\n",
              "    <tr>\n",
              "      <th>8</th>\n",
              "      <td>When do you use シ instead of し?</td>\n",
              "      <td>When do you use \"&amp;\" instead of \"and\"?</td>\n",
              "      <td>0</td>\n",
              "      <td>31</td>\n",
              "      <td>37</td>\n",
              "      <td>90</td>\n",
              "      <td>8</td>\n",
              "      <td>87</td>\n",
              "      <td>(0, 31172)\\t1\\n  (0, 63602)\\t1\\n  (0, 67083)...</td>\n",
              "      <td>(0, 39739)\\t1\\n  (0, 29024)\\t1\\n  (0, 58782)...</td>\n",
              "    </tr>\n",
              "    <tr>\n",
              "      <th>9</th>\n",
              "      <td>Motorola (company): Can I hack my Charter Moto...</td>\n",
              "      <td>How do I hack Motorola DCX3400 for free internet?</td>\n",
              "      <td>0</td>\n",
              "      <td>60</td>\n",
              "      <td>49</td>\n",
              "      <td>57</td>\n",
              "      <td>49</td>\n",
              "      <td>44</td>\n",
              "      <td>(0, 17002)\\t1\\n  (0, 40179)\\t1\\n  (0, 12575)...</td>\n",
              "      <td>(0, 22918)\\t1\\n  (0, 22571)\\t1\\n  (0, 15899)...</td>\n",
              "    </tr>\n",
              "    <tr>\n",
              "      <th>10</th>\n",
              "      <td>Method to find separation of slits using fresn...</td>\n",
              "      <td>What are some of the things technicians can te...</td>\n",
              "      <td>0</td>\n",
              "      <td>57</td>\n",
              "      <td>116</td>\n",
              "      <td>39</td>\n",
              "      <td>88</td>\n",
              "      <td>35</td>\n",
              "      <td>(0, 9181)\\t1\\n  (0, 24599)\\t1\\n  (0, 55776)\\...</td>\n",
              "      <td>(0, 13486)\\t1\\n  (0, 29890)\\t1\\n  (0, 32341)...</td>\n",
              "    </tr>\n",
              "    <tr>\n",
              "      <th>11</th>\n",
              "      <td>How do I read and find my YouTube comments?</td>\n",
              "      <td>How can I see all my Youtube comments?</td>\n",
              "      <td>1</td>\n",
              "      <td>43</td>\n",
              "      <td>38</td>\n",
              "      <td>71</td>\n",
              "      <td>14</td>\n",
              "      <td>76</td>\n",
              "      <td>(0, 14242)\\t1\\n  (0, 67118)\\t1\\n  (0, 49961)...</td>\n",
              "      <td>(0, 13279)\\t1\\n  (0, 61963)\\t1\\n  (0, 37734)...</td>\n",
              "    </tr>\n",
              "    <tr>\n",
              "      <th>12</th>\n",
              "      <td>What can make Physics easy to learn?</td>\n",
              "      <td>How can you make physics easy to learn?</td>\n",
              "      <td>1</td>\n",
              "      <td>36</td>\n",
              "      <td>39</td>\n",
              "      <td>86</td>\n",
              "      <td>9</td>\n",
              "      <td>85</td>\n",
              "      <td>(0, 35153)\\t1\\n  (0, 20285)\\t1\\n  (0, 46100)...</td>\n",
              "      <td>(0, 32610)\\t1\\n  (0, 18910)\\t1\\n  (0, 42556)...</td>\n",
              "    </tr>\n",
              "    <tr>\n",
              "      <th>13</th>\n",
              "      <td>What was your first sexual experience like?</td>\n",
              "      <td>What was your first sexual experience?</td>\n",
              "      <td>1</td>\n",
              "      <td>43</td>\n",
              "      <td>38</td>\n",
              "      <td>97</td>\n",
              "      <td>5</td>\n",
              "      <td>94</td>\n",
              "      <td>(0, 35682)\\t1\\n  (0, 22417)\\t1\\n  (0, 54366)...</td>\n",
              "      <td>(0, 20917)\\t1\\n  (0, 50210)\\t1\\n  (0, 22083)...</td>\n",
              "    </tr>\n",
              "    <tr>\n",
              "      <th>14</th>\n",
              "      <td>What are the laws to change your status from a...</td>\n",
              "      <td>What are the laws to change your status from a...</td>\n",
              "      <td>0</td>\n",
              "      <td>141</td>\n",
              "      <td>140</td>\n",
              "      <td>96</td>\n",
              "      <td>6</td>\n",
              "      <td>95</td>\n",
              "      <td>(0, 11330)\\t1\\n  (0, 30159)\\t1\\n  (0, 14354)...</td>\n",
              "      <td>(0, 30116)\\t1\\n  (0, 28077)\\t1\\n  (0, 13388)...</td>\n",
              "    </tr>\n",
              "    <tr>\n",
              "      <th>15</th>\n",
              "      <td>What would a Trump presidency mean for current...</td>\n",
              "      <td>How will a Trump presidency affect the student...</td>\n",
              "      <td>1</td>\n",
              "      <td>93</td>\n",
              "      <td>91</td>\n",
              "      <td>52</td>\n",
              "      <td>58</td>\n",
              "      <td>46</td>\n",
              "      <td>(0, 22652)\\t1\\n  (0, 5044)\\t1\\n  (0, 43223)\\...</td>\n",
              "      <td>(0, 53522)\\t1\\n  (0, 42900)\\t1\\n  (0, 40221)...</td>\n",
              "    </tr>\n",
              "    <tr>\n",
              "      <th>16</th>\n",
              "      <td>What does manipulation mean?</td>\n",
              "      <td>What does manipulation means?</td>\n",
              "      <td>1</td>\n",
              "      <td>28</td>\n",
              "      <td>29</td>\n",
              "      <td>96</td>\n",
              "      <td>1</td>\n",
              "      <td>98</td>\n",
              "      <td>(0, 37382)\\t1\\n  (0, 38169)\\t1\\n  (0, 19270)...</td>\n",
              "      <td>(0, 35377)\\t1\\n  (0, 34631)\\t1\\n  (0, 17967)...</td>\n",
              "    </tr>\n",
              "    <tr>\n",
              "      <th>17</th>\n",
              "      <td>Why do girls want to be friends with the guy t...</td>\n",
              "      <td>How do guys feel after rejecting a girl?</td>\n",
              "      <td>0</td>\n",
              "      <td>57</td>\n",
              "      <td>40</td>\n",
              "      <td>48</td>\n",
              "      <td>40</td>\n",
              "      <td>51</td>\n",
              "      <td>(0, 50679)\\t1\\n  (0, 27060)\\t1\\n  (0, 66177)...</td>\n",
              "      <td>(0, 24168)\\t1\\n  (0, 46815)\\t1\\n  (0, 3910)\\...</td>\n",
              "    </tr>\n",
              "    <tr>\n",
              "      <th>18</th>\n",
              "      <td>Why are so many Quora users posting questions ...</td>\n",
              "      <td>Why do people ask Quora questions which can be...</td>\n",
              "      <td>1</td>\n",
              "      <td>82</td>\n",
              "      <td>73</td>\n",
              "      <td>55</td>\n",
              "      <td>47</td>\n",
              "      <td>61</td>\n",
              "      <td>(0, 26241)\\t1\\n  (0, 5413)\\t1\\n  (0, 49969)\\...</td>\n",
              "      <td>(0, 24524)\\t1\\n  (0, 18898)\\t1\\n  (0, 5220)\\...</td>\n",
              "    </tr>\n",
              "    <tr>\n",
              "      <th>19</th>\n",
              "      <td>Which is the best digital marketing institutio...</td>\n",
              "      <td>Which is the best digital marketing institute ...</td>\n",
              "      <td>0</td>\n",
              "      <td>60</td>\n",
              "      <td>54</td>\n",
              "      <td>91</td>\n",
              "      <td>9</td>\n",
              "      <td>84</td>\n",
              "      <td>(0, 7782)\\t1\\n  (0, 31190)\\t1\\n  (0, 37615)\\...</td>\n",
              "      <td>(0, 44940)\\t1\\n  (0, 29036)\\t1\\n  (0, 34841)...</td>\n",
              "    </tr>\n",
              "    <tr>\n",
              "      <th>20</th>\n",
              "      <td>Why do rockets look white?</td>\n",
              "      <td>Why are rockets and boosters painted white?</td>\n",
              "      <td>1</td>\n",
              "      <td>26</td>\n",
              "      <td>43</td>\n",
              "      <td>65</td>\n",
              "      <td>21</td>\n",
              "      <td>66</td>\n",
              "      <td>(0, 65841)\\t1\\n  (0, 36224)\\t1\\n  (0, 51959)...</td>\n",
              "      <td>(0, 60783)\\t1\\n  (0, 40984)\\t1\\n  (0, 9208)\\...</td>\n",
              "    </tr>\n",
              "    <tr>\n",
              "      <th>21</th>\n",
              "      <td>What's causing someone to be jealous?</td>\n",
              "      <td>What can I do to avoid being jealous of someone?</td>\n",
              "      <td>0</td>\n",
              "      <td>37</td>\n",
              "      <td>48</td>\n",
              "      <td>65</td>\n",
              "      <td>30</td>\n",
              "      <td>75</td>\n",
              "      <td>(0, 32500)\\t1\\n  (0, 56309)\\t1\\n  (0, 11953)...</td>\n",
              "      <td>(0, 52025)\\t1\\n  (0, 30218)\\t1\\n  (0, 7912)\\...</td>\n",
              "    </tr>\n",
              "    <tr>\n",
              "      <th>22</th>\n",
              "      <td>What are the questions should not ask on Quora?</td>\n",
              "      <td>Which question should I ask on Quora?</td>\n",
              "      <td>0</td>\n",
              "      <td>47</td>\n",
              "      <td>37</td>\n",
              "      <td>86</td>\n",
              "      <td>13</td>\n",
              "      <td>78</td>\n",
              "      <td>(0, 6405)\\t1\\n  (0, 42322)\\t1\\n  (0, 49159)\\...</td>\n",
              "      <td>(0, 39951)\\t1\\n  (0, 45376)\\t1\\n  (0, 45461)...</td>\n",
              "    </tr>\n",
              "    <tr>\n",
              "      <th>23</th>\n",
              "      <td>How much is 30 kV in HP?</td>\n",
              "      <td>Where can I find a conversion chart for CC to ...</td>\n",
              "      <td>0</td>\n",
              "      <td>24</td>\n",
              "      <td>57</td>\n",
              "      <td>20</td>\n",
              "      <td>48</td>\n",
              "      <td>23</td>\n",
              "      <td>(0, 29085)\\t1\\n  (0, 34520)\\t1\\n  (0, 1399)\\...</td>\n",
              "      <td>(0, 26973)\\t1\\n  (0, 11234)\\t1\\n  (0, 11750)...</td>\n",
              "    </tr>\n",
              "    <tr>\n",
              "      <th>24</th>\n",
              "      <td>What does it mean that every time I look at th...</td>\n",
              "      <td>How many times a day do a clock’s hands overlap?</td>\n",
              "      <td>0</td>\n",
              "      <td>79</td>\n",
              "      <td>48</td>\n",
              "      <td>46</td>\n",
              "      <td>53</td>\n",
              "      <td>42</td>\n",
              "      <td>(0, 52885)\\t1\\n  (0, 42572)\\t1\\n  (0, 13590)...</td>\n",
              "      <td>(0, 40658)\\t1\\n  (0, 25596)\\t1\\n  (0, 12703)...</td>\n",
              "    </tr>\n",
              "    <tr>\n",
              "      <th>25</th>\n",
              "      <td>What are some tips on making it through the jo...</td>\n",
              "      <td>What are some tips on making it through the jo...</td>\n",
              "      <td>0</td>\n",
              "      <td>79</td>\n",
              "      <td>89</td>\n",
              "      <td>91</td>\n",
              "      <td>12</td>\n",
              "      <td>93</td>\n",
              "      <td>(0, 38275)\\t1\\n  (0, 47999)\\t1\\n  (0, 31475)...</td>\n",
              "      <td>(0, 35459)\\t1\\n  (0, 22763)\\t1\\n  (0, 6338)\\...</td>\n",
              "    </tr>\n",
              "    <tr>\n",
              "      <th>26</th>\n",
              "      <td>What is web application?</td>\n",
              "      <td>What is the web application framework?</td>\n",
              "      <td>0</td>\n",
              "      <td>24</td>\n",
              "      <td>38</td>\n",
              "      <td>83</td>\n",
              "      <td>14</td>\n",
              "      <td>77</td>\n",
              "      <td>(0, 5773)\\t1\\n  (0, 65477)\\t1\\n  (0, 31890)\\...</td>\n",
              "      <td>(0, 22844)\\t1\\n  (0, 5535)\\t1\\n  (0, 60458)\\...</td>\n",
              "    </tr>\n",
              "    <tr>\n",
              "      <th>27</th>\n",
              "      <td>Does society place too much importance on sports?</td>\n",
              "      <td>How do sports contribute to the society?</td>\n",
              "      <td>0</td>\n",
              "      <td>49</td>\n",
              "      <td>40</td>\n",
              "      <td>28</td>\n",
              "      <td>36</td>\n",
              "      <td>51</td>\n",
              "      <td>(0, 56917)\\t1\\n  (0, 30263)\\t1\\n  (0, 61135)...</td>\n",
              "      <td>(0, 51870)\\t1\\n  (0, 14111)\\t1\\n  (0, 52569)...</td>\n",
              "    </tr>\n",
              "    <tr>\n",
              "      <th>28</th>\n",
              "      <td>What is best way to make money online?</td>\n",
              "      <td>What is best way to ask for money online?</td>\n",
              "      <td>0</td>\n",
              "      <td>38</td>\n",
              "      <td>41</td>\n",
              "      <td>87</td>\n",
              "      <td>6</td>\n",
              "      <td>83</td>\n",
              "      <td>(0, 43285)\\t1\\n  (0, 39820)\\t1\\n  (0, 65393)...</td>\n",
              "      <td>(0, 39993)\\t1\\n  (0, 36870)\\t1\\n  (0, 60382)...</td>\n",
              "    </tr>\n",
              "    <tr>\n",
              "      <th>29</th>\n",
              "      <td>How should I prepare for CA final law?</td>\n",
              "      <td>How one should know that he/she completely pre...</td>\n",
              "      <td>1</td>\n",
              "      <td>38</td>\n",
              "      <td>69</td>\n",
              "      <td>68</td>\n",
              "      <td>34</td>\n",
              "      <td>63</td>\n",
              "      <td>(0, 35017)\\t1\\n  (0, 23506)\\t1\\n  (0, 11052)...</td>\n",
              "      <td>(0, 20668)\\t1\\n  (0, 21960)\\t1\\n  (0, 10344)...</td>\n",
              "    </tr>\n",
              "    <tr>\n",
              "      <th>...</th>\n",
              "      <td>...</td>\n",
              "      <td>...</td>\n",
              "      <td>...</td>\n",
              "      <td>...</td>\n",
              "      <td>...</td>\n",
              "      <td>...</td>\n",
              "      <td>...</td>\n",
              "      <td>...</td>\n",
              "      <td>...</td>\n",
              "      <td>...</td>\n",
              "    </tr>\n",
              "    <tr>\n",
              "      <th>70</th>\n",
              "      <td>What are the types of immunity?</td>\n",
              "      <td>What are the different types of immunity in ou...</td>\n",
              "      <td>0</td>\n",
              "      <td>31</td>\n",
              "      <td>53</td>\n",
              "      <td>74</td>\n",
              "      <td>22</td>\n",
              "      <td>73</td>\n",
              "      <td>(0, 30170)\\t1\\n  (0, 62369)\\t1\\n  (0, 6033)\\...</td>\n",
              "      <td>(0, 9032)\\t1\\n  (0, 28092)\\t1\\n  (0, 57623)\\...</td>\n",
              "    </tr>\n",
              "    <tr>\n",
              "      <th>71</th>\n",
              "      <td>What is a narcissistic personality disorder?</td>\n",
              "      <td>What is narcissistic personality disorder?</td>\n",
              "      <td>1</td>\n",
              "      <td>44</td>\n",
              "      <td>42</td>\n",
              "      <td>95</td>\n",
              "      <td>2</td>\n",
              "      <td>98</td>\n",
              "      <td>(0, 18892)\\t1\\n  (0, 45662)\\t1\\n  (0, 41120)...</td>\n",
              "      <td>(0, 17616)\\t1\\n  (0, 42164)\\t1\\n  (0, 38030)...</td>\n",
              "    </tr>\n",
              "    <tr>\n",
              "      <th>72</th>\n",
              "      <td>How I can speak English fluently?</td>\n",
              "      <td>How can I learn to speak English fluently?</td>\n",
              "      <td>1</td>\n",
              "      <td>33</td>\n",
              "      <td>42</td>\n",
              "      <td>76</td>\n",
              "      <td>10</td>\n",
              "      <td>88</td>\n",
              "      <td>(0, 23953)\\t1\\n  (0, 21323)\\t1\\n  (0, 56619)...</td>\n",
              "      <td>(0, 22391)\\t1\\n  (0, 19885)\\t1\\n  (0, 52306)...</td>\n",
              "    </tr>\n",
              "    <tr>\n",
              "      <th>73</th>\n",
              "      <td>How helpful is QuickBooks' auto data recovery ...</td>\n",
              "      <td>What is the quickbooks customer support phone ...</td>\n",
              "      <td>1</td>\n",
              "      <td>104</td>\n",
              "      <td>57</td>\n",
              "      <td>67</td>\n",
              "      <td>65</td>\n",
              "      <td>54</td>\n",
              "      <td>(0, 23456)\\t1\\n  (0, 15416)\\t1\\n  (0, 50244)...</td>\n",
              "      <td>(0, 58764)\\t1\\n  (0, 54149)\\t1\\n  (0, 15363)...</td>\n",
              "    </tr>\n",
              "    <tr>\n",
              "      <th>74</th>\n",
              "      <td>Who is the richest gambler of all time and how...</td>\n",
              "      <td>Who is the richest gambler of all time and how...</td>\n",
              "      <td>1</td>\n",
              "      <td>69</td>\n",
              "      <td>82</td>\n",
              "      <td>99</td>\n",
              "      <td>13</td>\n",
              "      <td>91</td>\n",
              "      <td>(0, 35442)\\t1\\n  (0, 28524)\\t1\\n  (0, 49930)...</td>\n",
              "      <td>(0, 6022)\\t1\\n  (0, 32864)\\t1\\n  (0, 46089)\\...</td>\n",
              "    </tr>\n",
              "    <tr>\n",
              "      <th>75</th>\n",
              "      <td>If I fire a bullet backward from an aircraft g...</td>\n",
              "      <td>Do bullets travel faster than the speed of sou...</td>\n",
              "      <td>0</td>\n",
              "      <td>110</td>\n",
              "      <td>148</td>\n",
              "      <td>36</td>\n",
              "      <td>114</td>\n",
              "      <td>41</td>\n",
              "      <td>(0, 7483)\\t1\\n  (0, 60279)\\t1\\n  (0, 22984)\\...</td>\n",
              "      <td>(0, 39637)\\t1\\n  (0, 16882)\\t1\\n  (0, 37421)...</td>\n",
              "    </tr>\n",
              "    <tr>\n",
              "      <th>76</th>\n",
              "      <td>How do I prevent breast cancer?</td>\n",
              "      <td>Is breast cancer preventable?</td>\n",
              "      <td>0</td>\n",
              "      <td>31</td>\n",
              "      <td>29</td>\n",
              "      <td>65</td>\n",
              "      <td>24</td>\n",
              "      <td>79</td>\n",
              "      <td>(0, 11351)\\t1\\n  (0, 10232)\\t1\\n  (0, 47797)...</td>\n",
              "      <td>(0, 44087)\\t1\\n  (0, 10626)\\t1\\n  (0, 9588)\\...</td>\n",
              "    </tr>\n",
              "    <tr>\n",
              "      <th>77</th>\n",
              "      <td>How do I log out of my Gmail account on my fri...</td>\n",
              "      <td>How can I know who logged in to my Gmail accou...</td>\n",
              "      <td>0</td>\n",
              "      <td>58</td>\n",
              "      <td>93</td>\n",
              "      <td>59</td>\n",
              "      <td>55</td>\n",
              "      <td>55</td>\n",
              "      <td>(0, 3292)\\t1\\n  (0, 43857)\\t1\\n  (0, 36104)\\...</td>\n",
              "      <td>(0, 37939)\\t1\\n  (0, 16917)\\t1\\n  (0, 3545)\\...</td>\n",
              "    </tr>\n",
              "    <tr>\n",
              "      <th>78</th>\n",
              "      <td>How can I make money through the Internet?</td>\n",
              "      <td>What are some different ways to make money onl...</td>\n",
              "      <td>0</td>\n",
              "      <td>42</td>\n",
              "      <td>76</td>\n",
              "      <td>45</td>\n",
              "      <td>54</td>\n",
              "      <td>37</td>\n",
              "      <td>(0, 39820)\\t1\\n  (0, 60616)\\t1\\n  (0, 37113)...</td>\n",
              "      <td>(0, 49906)\\t1\\n  (0, 20743)\\t1\\n  (0, 60394)...</td>\n",
              "    </tr>\n",
              "    <tr>\n",
              "      <th>79</th>\n",
              "      <td>What is purpose of life?</td>\n",
              "      <td>What's the purpose of life? What is life actua...</td>\n",
              "      <td>1</td>\n",
              "      <td>24</td>\n",
              "      <td>56</td>\n",
              "      <td>79</td>\n",
              "      <td>34</td>\n",
              "      <td>60</td>\n",
              "      <td>(0, 35613)\\t1\\n  (0, 48791)\\t1\\n  (0, 42980)...</td>\n",
              "      <td>(0, 3458)\\t1\\n  (0, 33034)\\t2\\n  (0, 45024)\\...</td>\n",
              "    </tr>\n",
              "    <tr>\n",
              "      <th>80</th>\n",
              "      <td>When will the BJP government strip all the Mus...</td>\n",
              "      <td>Why India does not apply the \"Burma-Rohingya m...</td>\n",
              "      <td>0</td>\n",
              "      <td>147</td>\n",
              "      <td>83</td>\n",
              "      <td>41</td>\n",
              "      <td>111</td>\n",
              "      <td>45</td>\n",
              "      <td>(0, 10827)\\t1\\n  (0, 51998)\\t1\\n  (0, 9619)\\...</td>\n",
              "      <td>(0, 7374)\\t1\\n  (0, 27950)\\t1\\n  (0, 16606)\\...</td>\n",
              "    </tr>\n",
              "    <tr>\n",
              "      <th>81</th>\n",
              "      <td>What is the right etiquette for wishing a Jeho...</td>\n",
              "      <td>How important is it to be the first person to ...</td>\n",
              "      <td>0</td>\n",
              "      <td>73</td>\n",
              "      <td>76</td>\n",
              "      <td>57</td>\n",
              "      <td>45</td>\n",
              "      <td>49</td>\n",
              "      <td>(0, 9206)\\t1\\n  (0, 27500)\\t1\\n  (0, 66201)\\...</td>\n",
              "      <td>(0, 8619)\\t1\\n  (0, 25678)\\t1\\n  (0, 61077)\\...</td>\n",
              "    </tr>\n",
              "    <tr>\n",
              "      <th>82</th>\n",
              "      <td>If someone wants to open a commercial FM radio...</td>\n",
              "      <td>I want to make a travel commercial/clip video ...</td>\n",
              "      <td>0</td>\n",
              "      <td>125</td>\n",
              "      <td>100</td>\n",
              "      <td>53</td>\n",
              "      <td>83</td>\n",
              "      <td>57</td>\n",
              "      <td>(0, 47989)\\t1\\n  (0, 13297)\\t1\\n  (0, 5580)\\...</td>\n",
              "      <td>(0, 14468)\\t1\\n  (0, 62119)\\t1\\n  (0, 25961)...</td>\n",
              "    </tr>\n",
              "    <tr>\n",
              "      <th>83</th>\n",
              "      <td>Why do Swiss despise Asians?</td>\n",
              "      <td>Why do technical employees despise sales peopl...</td>\n",
              "      <td>0</td>\n",
              "      <td>28</td>\n",
              "      <td>56</td>\n",
              "      <td>50</td>\n",
              "      <td>35</td>\n",
              "      <td>41</td>\n",
              "      <td>(0, 6396)\\t1\\n  (0, 17967)\\t1\\n  (0, 58961)\\...</td>\n",
              "      <td>(0, 51820)\\t1\\n  (0, 48751)\\t1\\n  (0, 16765)...</td>\n",
              "    </tr>\n",
              "    <tr>\n",
              "      <th>84</th>\n",
              "      <td>What are some of the high salary income jobs i...</td>\n",
              "      <td>What are some high paying jobs for a fresher w...</td>\n",
              "      <td>1</td>\n",
              "      <td>75</td>\n",
              "      <td>77</td>\n",
              "      <td>59</td>\n",
              "      <td>39</td>\n",
              "      <td>67</td>\n",
              "      <td>(0, 9163)\\t1\\n  (0, 23399)\\t1\\n  (0, 32753)\\...</td>\n",
              "      <td>(0, 8583)\\t1\\n  (0, 55238)\\t1\\n  (0, 23011)\\...</td>\n",
              "    </tr>\n",
              "    <tr>\n",
              "      <th>85</th>\n",
              "      <td>How can I increase my height after 21 also?</td>\n",
              "      <td>Can height increase after 25?</td>\n",
              "      <td>1</td>\n",
              "      <td>43</td>\n",
              "      <td>29</td>\n",
              "      <td>59</td>\n",
              "      <td>25</td>\n",
              "      <td>77</td>\n",
              "      <td>(0, 4724)\\t1\\n  (0, 1047)\\t1\\n  (0, 28008)\\t...</td>\n",
              "      <td>(0, 1152)\\t1\\n  (0, 26132)\\t1\\n  (0, 28402)\\...</td>\n",
              "    </tr>\n",
              "    <tr>\n",
              "      <th>86</th>\n",
              "      <td>What were the major effects of the cambodia ea...</td>\n",
              "      <td>What were the major effects of the cambodia ea...</td>\n",
              "      <td>1</td>\n",
              "      <td>126</td>\n",
              "      <td>126</td>\n",
              "      <td>93</td>\n",
              "      <td>11</td>\n",
              "      <td>90</td>\n",
              "      <td>(0, 788)\\t1\\n  (0, 20255)\\t1\\n  (0, 33247)\\t...</td>\n",
              "      <td>(0, 653)\\t1\\n  (0, 59054)\\t1\\n  (0, 55855)\\t...</td>\n",
              "    </tr>\n",
              "    <tr>\n",
              "      <th>87</th>\n",
              "      <td>What is the difference between sincerity and f...</td>\n",
              "      <td>What's the difference between honest and sincere?</td>\n",
              "      <td>0</td>\n",
              "      <td>54</td>\n",
              "      <td>49</td>\n",
              "      <td>71</td>\n",
              "      <td>14</td>\n",
              "      <td>87</td>\n",
              "      <td>(0, 22784)\\t1\\n  (0, 55344)\\t1\\n  (0, 18409)...</td>\n",
              "      <td>(0, 51104)\\t1\\n  (0, 26849)\\t1\\n  (0, 8183)\\...</td>\n",
              "    </tr>\n",
              "    <tr>\n",
              "      <th>88</th>\n",
              "      <td>Which is the best gaming laptop under 60k INR?</td>\n",
              "      <td>Which is the best gaming laptop under Rs 60000?</td>\n",
              "      <td>1</td>\n",
              "      <td>46</td>\n",
              "      <td>47</td>\n",
              "      <td>87</td>\n",
              "      <td>8</td>\n",
              "      <td>88</td>\n",
              "      <td>(0, 31043)\\t1\\n  (0, 2228)\\t1\\n  (0, 62797)\\...</td>\n",
              "      <td>(0, 2167)\\t1\\n  (0, 48282)\\t1\\n  (0, 58015)\\...</td>\n",
              "    </tr>\n",
              "    <tr>\n",
              "      <th>89</th>\n",
              "      <td>What is your review of The Next Warrior: Provi...</td>\n",
              "      <td>What is your review of The Next Warrior: Provi...</td>\n",
              "      <td>0</td>\n",
              "      <td>66</td>\n",
              "      <td>66</td>\n",
              "      <td>98</td>\n",
              "      <td>1</td>\n",
              "      <td>98</td>\n",
              "      <td>(0, 44811)\\t1\\n  (0, 26758)\\t1\\n  (0, 48414)...</td>\n",
              "      <td>(0, 41394)\\t1\\n  (0, 24975)\\t1\\n  (0, 44681)...</td>\n",
              "    </tr>\n",
              "    <tr>\n",
              "      <th>90</th>\n",
              "      <td>What is the best reference book for physics cl...</td>\n",
              "      <td>Which book should I choose for reference for p...</td>\n",
              "      <td>0</td>\n",
              "      <td>55</td>\n",
              "      <td>90</td>\n",
              "      <td>62</td>\n",
              "      <td>56</td>\n",
              "      <td>63</td>\n",
              "      <td>(0, 277)\\t1\\n  (0, 13392)\\t1\\n  (0, 50412)\\t...</td>\n",
              "      <td>(0, 8996)\\t1\\n  (0, 11230)\\t1\\n  (0, 220)\\t1...</td>\n",
              "    </tr>\n",
              "    <tr>\n",
              "      <th>91</th>\n",
              "      <td>National Institute of Technology, Kurukshetra:...</td>\n",
              "      <td>National Institute of Technology Karnataka (NI...</td>\n",
              "      <td>0</td>\n",
              "      <td>89</td>\n",
              "      <td>157</td>\n",
              "      <td>60</td>\n",
              "      <td>99</td>\n",
              "      <td>57</td>\n",
              "      <td>(0, 58649)\\t1\\n  (0, 42021)\\t1\\n  (0, 56115)...</td>\n",
              "      <td>(0, 32635)\\t1\\n  (0, 7858)\\t1\\n  (0, 30695)\\...</td>\n",
              "    </tr>\n",
              "    <tr>\n",
              "      <th>92</th>\n",
              "      <td>What are some of the best romantic movies in E...</td>\n",
              "      <td>What is the best romantic movie you have ever ...</td>\n",
              "      <td>1</td>\n",
              "      <td>53</td>\n",
              "      <td>51</td>\n",
              "      <td>65</td>\n",
              "      <td>26</td>\n",
              "      <td>69</td>\n",
              "      <td>(0, 40256)\\t1\\n  (0, 52056)\\t1\\n  (0, 21323)...</td>\n",
              "      <td>(0, 49829)\\t1\\n  (0, 37262)\\t1\\n  (0, 48086)...</td>\n",
              "    </tr>\n",
              "    <tr>\n",
              "      <th>93</th>\n",
              "      <td>What causes a nightmare?</td>\n",
              "      <td>What causes nightmares that seem real?</td>\n",
              "      <td>1</td>\n",
              "      <td>24</td>\n",
              "      <td>38</td>\n",
              "      <td>88</td>\n",
              "      <td>18</td>\n",
              "      <td>70</td>\n",
              "      <td>(0, 41894)\\t1\\n  (0, 11951)\\t1\\n  (0, 65736)\\t1</td>\n",
              "      <td>(0, 46136)\\t1\\n  (0, 49821)\\t1\\n  (0, 38758)...</td>\n",
              "    </tr>\n",
              "    <tr>\n",
              "      <th>94</th>\n",
              "      <td>What is abstract expressionism in painting?</td>\n",
              "      <td>What are some of the major influences of abstr...</td>\n",
              "      <td>0</td>\n",
              "      <td>43</td>\n",
              "      <td>64</td>\n",
              "      <td>68</td>\n",
              "      <td>45</td>\n",
              "      <td>65</td>\n",
              "      <td>(0, 44377)\\t1\\n  (0, 22511)\\t1\\n  (0, 3168)\\...</td>\n",
              "      <td>(0, 21008)\\t1\\n  (0, 3134)\\t1\\n  (0, 28677)\\...</td>\n",
              "    </tr>\n",
              "    <tr>\n",
              "      <th>95</th>\n",
              "      <td>How does 3D printing work?</td>\n",
              "      <td>How do 3D printing work?</td>\n",
              "      <td>1</td>\n",
              "      <td>26</td>\n",
              "      <td>24</td>\n",
              "      <td>92</td>\n",
              "      <td>2</td>\n",
              "      <td>96</td>\n",
              "      <td>(0, 66347)\\t1\\n  (0, 47885)\\t1\\n  (0, 1658)\\...</td>\n",
              "      <td>(0, 61259)\\t1\\n  (0, 44174)\\t1\\n  (0, 1619)\\...</td>\n",
              "    </tr>\n",
              "    <tr>\n",
              "      <th>96</th>\n",
              "      <td>What was it like to attend Caltech with Jeremy...</td>\n",
              "      <td>Who are some notable folks who attended Caltech?</td>\n",
              "      <td>0</td>\n",
              "      <td>56</td>\n",
              "      <td>48</td>\n",
              "      <td>48</td>\n",
              "      <td>40</td>\n",
              "      <td>45</td>\n",
              "      <td>(0, 20630)\\t1\\n  (0, 32572)\\t1\\n  (0, 11248)...</td>\n",
              "      <td>(0, 10528)\\t1\\n  (0, 6471)\\t1\\n  (0, 22495)\\...</td>\n",
              "    </tr>\n",
              "    <tr>\n",
              "      <th>97</th>\n",
              "      <td>Why did harry become a horcrux?</td>\n",
              "      <td>What is a Horcrux?</td>\n",
              "      <td>0</td>\n",
              "      <td>31</td>\n",
              "      <td>18</td>\n",
              "      <td>61</td>\n",
              "      <td>17</td>\n",
              "      <td>51</td>\n",
              "      <td>(0, 28899)\\t1\\n  (0, 27630)\\t1\\n  (0, 18367)...</td>\n",
              "      <td>(0, 26928)\\t1\\n  (0, 29679)\\t1\\n  (0, 60681)\\t1</td>\n",
              "    </tr>\n",
              "    <tr>\n",
              "      <th>98</th>\n",
              "      <td>What are the best associate product manager (A...</td>\n",
              "      <td>What are the general requirement to become a P...</td>\n",
              "      <td>0</td>\n",
              "      <td>171</td>\n",
              "      <td>118</td>\n",
              "      <td>40</td>\n",
              "      <td>107</td>\n",
              "      <td>63</td>\n",
              "      <td>(0, 51540)\\t1\\n  (0, 37277)\\t1\\n  (0, 32790)...</td>\n",
              "      <td>(0, 13377)\\t1\\n  (0, 51922)\\t1\\n  (0, 7575)\\...</td>\n",
              "    </tr>\n",
              "    <tr>\n",
              "      <th>99</th>\n",
              "      <td>Why is the number for Skype at 1-855-425-3768 ...</td>\n",
              "      <td>How could I get Skype to work on an android 4....</td>\n",
              "      <td>0</td>\n",
              "      <td>58</td>\n",
              "      <td>56</td>\n",
              "      <td>29</td>\n",
              "      <td>49</td>\n",
              "      <td>46</td>\n",
              "      <td>(0, 10902)\\t1\\n  (0, 1609)\\t1\\n  (0, 1794)\\t...</td>\n",
              "      <td>(0, 5015)\\t1\\n  (0, 51391)\\t1\\n  (0, 14514)\\...</td>\n",
              "    </tr>\n",
              "  </tbody>\n",
              "</table>\n",
              "<p>100 rows × 10 columns</p>\n",
              "</div>"
            ],
            "text/plain": [
              "                                            question1  \\\n",
              "0   What is the step by step guide to invest in sh...   \n",
              "1   What is the story of Kohinoor (Koh-i-Noor) Dia...   \n",
              "2   How can I increase the speed of my internet co...   \n",
              "3   Why am I mentally very lonely? How can I solve...   \n",
              "4   Which one dissolve in water quikly sugar, salt...   \n",
              "5   Astrology: I am a Capricorn Sun Cap moon and c...   \n",
              "6                                 Should I buy tiago?   \n",
              "7                      How can I be a good geologist?   \n",
              "8                     When do you use シ instead of し?   \n",
              "9   Motorola (company): Can I hack my Charter Moto...   \n",
              "10  Method to find separation of slits using fresn...   \n",
              "11        How do I read and find my YouTube comments?   \n",
              "12               What can make Physics easy to learn?   \n",
              "13        What was your first sexual experience like?   \n",
              "14  What are the laws to change your status from a...   \n",
              "15  What would a Trump presidency mean for current...   \n",
              "16                       What does manipulation mean?   \n",
              "17  Why do girls want to be friends with the guy t...   \n",
              "18  Why are so many Quora users posting questions ...   \n",
              "19  Which is the best digital marketing institutio...   \n",
              "20                         Why do rockets look white?   \n",
              "21              What's causing someone to be jealous?   \n",
              "22    What are the questions should not ask on Quora?   \n",
              "23                           How much is 30 kV in HP?   \n",
              "24  What does it mean that every time I look at th...   \n",
              "25  What are some tips on making it through the jo...   \n",
              "26                           What is web application?   \n",
              "27  Does society place too much importance on sports?   \n",
              "28             What is best way to make money online?   \n",
              "29             How should I prepare for CA final law?   \n",
              "..                                                ...   \n",
              "70                    What are the types of immunity?   \n",
              "71       What is a narcissistic personality disorder?   \n",
              "72                  How I can speak English fluently?   \n",
              "73  How helpful is QuickBooks' auto data recovery ...   \n",
              "74  Who is the richest gambler of all time and how...   \n",
              "75  If I fire a bullet backward from an aircraft g...   \n",
              "76                    How do I prevent breast cancer?   \n",
              "77  How do I log out of my Gmail account on my fri...   \n",
              "78         How can I make money through the Internet?   \n",
              "79                           What is purpose of life?   \n",
              "80  When will the BJP government strip all the Mus...   \n",
              "81  What is the right etiquette for wishing a Jeho...   \n",
              "82  If someone wants to open a commercial FM radio...   \n",
              "83                       Why do Swiss despise Asians?   \n",
              "84  What are some of the high salary income jobs i...   \n",
              "85        How can I increase my height after 21 also?   \n",
              "86  What were the major effects of the cambodia ea...   \n",
              "87  What is the difference between sincerity and f...   \n",
              "88     Which is the best gaming laptop under 60k INR?   \n",
              "89  What is your review of The Next Warrior: Provi...   \n",
              "90  What is the best reference book for physics cl...   \n",
              "91  National Institute of Technology, Kurukshetra:...   \n",
              "92  What are some of the best romantic movies in E...   \n",
              "93                           What causes a nightmare?   \n",
              "94        What is abstract expressionism in painting?   \n",
              "95                         How does 3D printing work?   \n",
              "96  What was it like to attend Caltech with Jeremy...   \n",
              "97                    Why did harry become a horcrux?   \n",
              "98  What are the best associate product manager (A...   \n",
              "99  Why is the number for Skype at 1-855-425-3768 ...   \n",
              "\n",
              "                                            question2  is_duplicate   t1   t2  \\\n",
              "0   What is the step by step guide to invest in sh...             0   66   57   \n",
              "1   What would happen if the Indian government sto...             0   51   88   \n",
              "2   How can Internet speed be increased by hacking...             0   73   59   \n",
              "3   Find the remainder when [math]23^{24}[/math] i...             0   50   65   \n",
              "4             Which fish would survive in salt water?             0   76   39   \n",
              "5   I'm a triple Capricorn (Sun, Moon and ascendan...             1   86   90   \n",
              "6   What keeps childern active and far from phone ...             0   19   62   \n",
              "7           What should I do to be a great geologist?             1   30   41   \n",
              "8               When do you use \"&\" instead of \"and\"?             0   31   37   \n",
              "9   How do I hack Motorola DCX3400 for free internet?             0   60   49   \n",
              "10  What are some of the things technicians can te...             0   57  116   \n",
              "11             How can I see all my Youtube comments?             1   43   38   \n",
              "12            How can you make physics easy to learn?             1   36   39   \n",
              "13             What was your first sexual experience?             1   43   38   \n",
              "14  What are the laws to change your status from a...             0  141  140   \n",
              "15  How will a Trump presidency affect the student...             1   93   91   \n",
              "16                      What does manipulation means?             1   28   29   \n",
              "17           How do guys feel after rejecting a girl?             0   57   40   \n",
              "18  Why do people ask Quora questions which can be...             1   82   73   \n",
              "19  Which is the best digital marketing institute ...             0   60   54   \n",
              "20        Why are rockets and boosters painted white?             1   26   43   \n",
              "21   What can I do to avoid being jealous of someone?             0   37   48   \n",
              "22              Which question should I ask on Quora?             0   47   37   \n",
              "23  Where can I find a conversion chart for CC to ...             0   24   57   \n",
              "24   How many times a day do a clock’s hands overlap?             0   79   48   \n",
              "25  What are some tips on making it through the jo...             0   79   89   \n",
              "26             What is the web application framework?             0   24   38   \n",
              "27           How do sports contribute to the society?             0   49   40   \n",
              "28          What is best way to ask for money online?             0   38   41   \n",
              "29  How one should know that he/she completely pre...             1   38   69   \n",
              "..                                                ...           ...  ...  ...   \n",
              "70  What are the different types of immunity in ou...             0   31   53   \n",
              "71         What is narcissistic personality disorder?             1   44   42   \n",
              "72         How can I learn to speak English fluently?             1   33   42   \n",
              "73  What is the quickbooks customer support phone ...             1  104   57   \n",
              "74  Who is the richest gambler of all time and how...             1   69   82   \n",
              "75  Do bullets travel faster than the speed of sou...             0  110  148   \n",
              "76                      Is breast cancer preventable?             0   31   29   \n",
              "77  How can I know who logged in to my Gmail accou...             0   58   93   \n",
              "78  What are some different ways to make money onl...             0   42   76   \n",
              "79  What's the purpose of life? What is life actua...             1   24   56   \n",
              "80  Why India does not apply the \"Burma-Rohingya m...             0  147   83   \n",
              "81  How important is it to be the first person to ...             0   73   76   \n",
              "82  I want to make a travel commercial/clip video ...             0  125  100   \n",
              "83  Why do technical employees despise sales peopl...             0   28   56   \n",
              "84  What are some high paying jobs for a fresher w...             1   75   77   \n",
              "85                      Can height increase after 25?             1   43   29   \n",
              "86  What were the major effects of the cambodia ea...             1  126  126   \n",
              "87  What's the difference between honest and sincere?             0   54   49   \n",
              "88    Which is the best gaming laptop under Rs 60000?             1   46   47   \n",
              "89  What is your review of The Next Warrior: Provi...             0   66   66   \n",
              "90  Which book should I choose for reference for p...             0   55   90   \n",
              "91  National Institute of Technology Karnataka (NI...             0   89  157   \n",
              "92  What is the best romantic movie you have ever ...             1   53   51   \n",
              "93             What causes nightmares that seem real?             1   24   38   \n",
              "94  What are some of the major influences of abstr...             0   43   64   \n",
              "95                           How do 3D printing work?             1   26   24   \n",
              "96   Who are some notable folks who attended Caltech?             0   56   48   \n",
              "97                                 What is a Horcrux?             0   31   18   \n",
              "98  What are the general requirement to become a P...             0  171  118   \n",
              "99  How could I get Skype to work on an android 4....             0   58   56   \n",
              "\n",
              "    ratio  ldist  token_sort_ratio  \\\n",
              "0      98      9                93   \n",
              "1      73     43                63   \n",
              "2      41     40                63   \n",
              "3      20     54                24   \n",
              "4      54     53                47   \n",
              "5      67     45                74   \n",
              "6      32     53                23   \n",
              "7      67     20                61   \n",
              "8      90      8                87   \n",
              "9      57     49                44   \n",
              "10     39     88                35   \n",
              "11     71     14                76   \n",
              "12     86      9                85   \n",
              "13     97      5                94   \n",
              "14     96      6                95   \n",
              "15     52     58                46   \n",
              "16     96      1                98   \n",
              "17     48     40                51   \n",
              "18     55     47                61   \n",
              "19     91      9                84   \n",
              "20     65     21                66   \n",
              "21     65     30                75   \n",
              "22     86     13                78   \n",
              "23     20     48                23   \n",
              "24     46     53                42   \n",
              "25     91     12                93   \n",
              "26     83     14                77   \n",
              "27     28     36                51   \n",
              "28     87      6                83   \n",
              "29     68     34                63   \n",
              "..    ...    ...               ...   \n",
              "70     74     22                73   \n",
              "71     95      2                98   \n",
              "72     76     10                88   \n",
              "73     67     65                54   \n",
              "74     99     13                91   \n",
              "75     36    114                41   \n",
              "76     65     24                79   \n",
              "77     59     55                55   \n",
              "78     45     54                37   \n",
              "79     79     34                60   \n",
              "80     41    111                45   \n",
              "81     57     45                49   \n",
              "82     53     83                57   \n",
              "83     50     35                41   \n",
              "84     59     39                67   \n",
              "85     59     25                77   \n",
              "86     93     11                90   \n",
              "87     71     14                87   \n",
              "88     87      8                88   \n",
              "89     98      1                98   \n",
              "90     62     56                63   \n",
              "91     60     99                57   \n",
              "92     65     26                69   \n",
              "93     88     18                70   \n",
              "94     68     45                65   \n",
              "95     92      2                96   \n",
              "96     48     40                45   \n",
              "97     61     17                51   \n",
              "98     40    107                63   \n",
              "99     29     49                46   \n",
              "\n",
              "                                             count_v1  \\\n",
              "0     (0, 30560)\\t1\\n  (0, 37608)\\t1\\n  (0, 54542)...   \n",
              "1     (0, 18290)\\t1\\n  (0, 42229)\\t1\\n  (0, 34200)...   \n",
              "2     (0, 64928)\\t1\\n  (0, 63630)\\t1\\n  (0, 65806)...   \n",
              "3     (0, 32061)\\t1\\n  (0, 56273)\\t1\\n  (0, 36191)...   \n",
              "4     (0, 44169)\\t1\\n  (0, 18243)\\t1\\n  (0, 11552)...   \n",
              "5     (0, 38158)\\t1\\n  (0, 3109)\\t1\\n  (0, 53273)\\...   \n",
              "6     (0, 60683)\\t1\\n  (0, 10944)\\t1\\n  (0, 54939)\\t1   \n",
              "7     (0, 25580)\\t1\\n  (0, 26217)\\t1\\n  (0, 8188)\\...   \n",
              "8     (0, 31172)\\t1\\n  (0, 63602)\\t1\\n  (0, 67083)...   \n",
              "9     (0, 17002)\\t1\\n  (0, 40179)\\t1\\n  (0, 12575)...   \n",
              "10    (0, 9181)\\t1\\n  (0, 24599)\\t1\\n  (0, 55776)\\...   \n",
              "11    (0, 14242)\\t1\\n  (0, 67118)\\t1\\n  (0, 49961)...   \n",
              "12    (0, 35153)\\t1\\n  (0, 20285)\\t1\\n  (0, 46100)...   \n",
              "13    (0, 35682)\\t1\\n  (0, 22417)\\t1\\n  (0, 54366)...   \n",
              "14    (0, 11330)\\t1\\n  (0, 30159)\\t1\\n  (0, 14354)...   \n",
              "15    (0, 22652)\\t1\\n  (0, 5044)\\t1\\n  (0, 43223)\\...   \n",
              "16    (0, 37382)\\t1\\n  (0, 38169)\\t1\\n  (0, 19270)...   \n",
              "17    (0, 50679)\\t1\\n  (0, 27060)\\t1\\n  (0, 66177)...   \n",
              "18    (0, 26241)\\t1\\n  (0, 5413)\\t1\\n  (0, 49969)\\...   \n",
              "19    (0, 7782)\\t1\\n  (0, 31190)\\t1\\n  (0, 37615)\\...   \n",
              "20    (0, 65841)\\t1\\n  (0, 36224)\\t1\\n  (0, 51959)...   \n",
              "21    (0, 32500)\\t1\\n  (0, 56309)\\t1\\n  (0, 11953)...   \n",
              "22    (0, 6405)\\t1\\n  (0, 42322)\\t1\\n  (0, 49159)\\...   \n",
              "23    (0, 29085)\\t1\\n  (0, 34520)\\t1\\n  (0, 1399)\\...   \n",
              "24    (0, 52885)\\t1\\n  (0, 42572)\\t1\\n  (0, 13590)...   \n",
              "25    (0, 38275)\\t1\\n  (0, 47999)\\t1\\n  (0, 31475)...   \n",
              "26    (0, 5773)\\t1\\n  (0, 65477)\\t1\\n  (0, 31890)\\...   \n",
              "27    (0, 56917)\\t1\\n  (0, 30263)\\t1\\n  (0, 61135)...   \n",
              "28    (0, 43285)\\t1\\n  (0, 39820)\\t1\\n  (0, 65393)...   \n",
              "29    (0, 35017)\\t1\\n  (0, 23506)\\t1\\n  (0, 11052)...   \n",
              "..                                                ...   \n",
              "70    (0, 30170)\\t1\\n  (0, 62369)\\t1\\n  (0, 6033)\\...   \n",
              "71    (0, 18892)\\t1\\n  (0, 45662)\\t1\\n  (0, 41120)...   \n",
              "72    (0, 23953)\\t1\\n  (0, 21323)\\t1\\n  (0, 56619)...   \n",
              "73    (0, 23456)\\t1\\n  (0, 15416)\\t1\\n  (0, 50244)...   \n",
              "74    (0, 35442)\\t1\\n  (0, 28524)\\t1\\n  (0, 49930)...   \n",
              "75    (0, 7483)\\t1\\n  (0, 60279)\\t1\\n  (0, 22984)\\...   \n",
              "76    (0, 11351)\\t1\\n  (0, 10232)\\t1\\n  (0, 47797)...   \n",
              "77    (0, 3292)\\t1\\n  (0, 43857)\\t1\\n  (0, 36104)\\...   \n",
              "78    (0, 39820)\\t1\\n  (0, 60616)\\t1\\n  (0, 37113)...   \n",
              "79    (0, 35613)\\t1\\n  (0, 48791)\\t1\\n  (0, 42980)...   \n",
              "80    (0, 10827)\\t1\\n  (0, 51998)\\t1\\n  (0, 9619)\\...   \n",
              "81    (0, 9206)\\t1\\n  (0, 27500)\\t1\\n  (0, 66201)\\...   \n",
              "82    (0, 47989)\\t1\\n  (0, 13297)\\t1\\n  (0, 5580)\\...   \n",
              "83    (0, 6396)\\t1\\n  (0, 17967)\\t1\\n  (0, 58961)\\...   \n",
              "84    (0, 9163)\\t1\\n  (0, 23399)\\t1\\n  (0, 32753)\\...   \n",
              "85    (0, 4724)\\t1\\n  (0, 1047)\\t1\\n  (0, 28008)\\t...   \n",
              "86    (0, 788)\\t1\\n  (0, 20255)\\t1\\n  (0, 33247)\\t...   \n",
              "87    (0, 22784)\\t1\\n  (0, 55344)\\t1\\n  (0, 18409)...   \n",
              "88    (0, 31043)\\t1\\n  (0, 2228)\\t1\\n  (0, 62797)\\...   \n",
              "89    (0, 44811)\\t1\\n  (0, 26758)\\t1\\n  (0, 48414)...   \n",
              "90    (0, 277)\\t1\\n  (0, 13392)\\t1\\n  (0, 50412)\\t...   \n",
              "91    (0, 58649)\\t1\\n  (0, 42021)\\t1\\n  (0, 56115)...   \n",
              "92    (0, 40256)\\t1\\n  (0, 52056)\\t1\\n  (0, 21323)...   \n",
              "93    (0, 41894)\\t1\\n  (0, 11951)\\t1\\n  (0, 65736)\\t1   \n",
              "94    (0, 44377)\\t1\\n  (0, 22511)\\t1\\n  (0, 3168)\\...   \n",
              "95    (0, 66347)\\t1\\n  (0, 47885)\\t1\\n  (0, 1658)\\...   \n",
              "96    (0, 20630)\\t1\\n  (0, 32572)\\t1\\n  (0, 11248)...   \n",
              "97    (0, 28899)\\t1\\n  (0, 27630)\\t1\\n  (0, 18367)...   \n",
              "98    (0, 51540)\\t1\\n  (0, 37277)\\t1\\n  (0, 32790)...   \n",
              "99    (0, 10902)\\t1\\n  (0, 1609)\\t1\\n  (0, 1794)\\t...   \n",
              "\n",
              "                                             count_v2  \n",
              "0     (0, 34835)\\t1\\n  (0, 50364)\\t1\\n  (0, 28272)...  \n",
              "1     (0, 7051)\\t1\\n  (0, 17079)\\t1\\n  (0, 39028)\\...  \n",
              "2     (0, 17913)\\t1\\n  (0, 56019)\\t1\\n  (0, 25386)...  \n",
              "3     (0, 17823)\\t1\\n  (0, 1119)\\t2\\n  (0, 1092)\\t...  \n",
              "4     (0, 60326)\\t1\\n  (0, 48790)\\t1\\n  (0, 54269)...  \n",
              "5     (0, 35356)\\t1\\n  (0, 3077)\\t1\\n  (0, 49195)\\...  \n",
              "6     (0, 23527)\\t1\\n  (0, 59515)\\t1\\n  (0, 42449)...  \n",
              "7     (0, 23921)\\t1\\n  (0, 24814)\\t1\\n  (0, 17916)...  \n",
              "8     (0, 39739)\\t1\\n  (0, 29024)\\t1\\n  (0, 58782)...  \n",
              "9     (0, 22918)\\t1\\n  (0, 22571)\\t1\\n  (0, 15899)...  \n",
              "10    (0, 13486)\\t1\\n  (0, 29890)\\t1\\n  (0, 32341)...  \n",
              "11    (0, 13279)\\t1\\n  (0, 61963)\\t1\\n  (0, 37734)...  \n",
              "12    (0, 32610)\\t1\\n  (0, 18910)\\t1\\n  (0, 42556)...  \n",
              "13    (0, 20917)\\t1\\n  (0, 50210)\\t1\\n  (0, 22083)...  \n",
              "14    (0, 30116)\\t1\\n  (0, 28077)\\t1\\n  (0, 13388)...  \n",
              "15    (0, 53522)\\t1\\n  (0, 42900)\\t1\\n  (0, 40221)...  \n",
              "16    (0, 35377)\\t1\\n  (0, 34631)\\t1\\n  (0, 17967)...  \n",
              "17    (0, 24168)\\t1\\n  (0, 46815)\\t1\\n  (0, 3910)\\...  \n",
              "18    (0, 24524)\\t1\\n  (0, 18898)\\t1\\n  (0, 5220)\\...  \n",
              "19    (0, 44940)\\t1\\n  (0, 29036)\\t1\\n  (0, 34841)...  \n",
              "20    (0, 60783)\\t1\\n  (0, 40984)\\t1\\n  (0, 9208)\\...  \n",
              "21    (0, 52025)\\t1\\n  (0, 30218)\\t1\\n  (0, 7912)\\...  \n",
              "22    (0, 39951)\\t1\\n  (0, 45376)\\t1\\n  (0, 45461)...  \n",
              "23    (0, 26973)\\t1\\n  (0, 11234)\\t1\\n  (0, 11750)...  \n",
              "24    (0, 40658)\\t1\\n  (0, 25596)\\t1\\n  (0, 12703)...  \n",
              "25    (0, 35459)\\t1\\n  (0, 22763)\\t1\\n  (0, 6338)\\...  \n",
              "26    (0, 22844)\\t1\\n  (0, 5535)\\t1\\n  (0, 60458)\\...  \n",
              "27    (0, 51870)\\t1\\n  (0, 14111)\\t1\\n  (0, 52569)...  \n",
              "28    (0, 39993)\\t1\\n  (0, 36870)\\t1\\n  (0, 60382)...  \n",
              "29    (0, 20668)\\t1\\n  (0, 21960)\\t1\\n  (0, 10344)...  \n",
              "..                                                ...  \n",
              "70    (0, 9032)\\t1\\n  (0, 28092)\\t1\\n  (0, 57623)\\...  \n",
              "71    (0, 17616)\\t1\\n  (0, 42164)\\t1\\n  (0, 38030)...  \n",
              "72    (0, 22391)\\t1\\n  (0, 19885)\\t1\\n  (0, 52306)...  \n",
              "73    (0, 58764)\\t1\\n  (0, 54149)\\t1\\n  (0, 15363)...  \n",
              "74    (0, 6022)\\t1\\n  (0, 32864)\\t1\\n  (0, 46089)\\...  \n",
              "75    (0, 39637)\\t1\\n  (0, 16882)\\t1\\n  (0, 37421)...  \n",
              "76    (0, 44087)\\t1\\n  (0, 10626)\\t1\\n  (0, 9588)\\...  \n",
              "77    (0, 37939)\\t1\\n  (0, 16917)\\t1\\n  (0, 3545)\\...  \n",
              "78    (0, 49906)\\t1\\n  (0, 20743)\\t1\\n  (0, 60394)...  \n",
              "79    (0, 3458)\\t1\\n  (0, 33034)\\t2\\n  (0, 45024)\\...  \n",
              "80    (0, 7374)\\t1\\n  (0, 27950)\\t1\\n  (0, 16606)\\...  \n",
              "81    (0, 8619)\\t1\\n  (0, 25678)\\t1\\n  (0, 61077)\\...  \n",
              "82    (0, 14468)\\t1\\n  (0, 62119)\\t1\\n  (0, 25961)...  \n",
              "83    (0, 51820)\\t1\\n  (0, 48751)\\t1\\n  (0, 16765)...  \n",
              "84    (0, 8583)\\t1\\n  (0, 55238)\\t1\\n  (0, 23011)\\...  \n",
              "85    (0, 1152)\\t1\\n  (0, 26132)\\t1\\n  (0, 28402)\\...  \n",
              "86    (0, 653)\\t1\\n  (0, 59054)\\t1\\n  (0, 55855)\\t...  \n",
              "87    (0, 51104)\\t1\\n  (0, 26849)\\t1\\n  (0, 8183)\\...  \n",
              "88    (0, 2167)\\t1\\n  (0, 48282)\\t1\\n  (0, 58015)\\...  \n",
              "89    (0, 41394)\\t1\\n  (0, 24975)\\t1\\n  (0, 44681)...  \n",
              "90    (0, 8996)\\t1\\n  (0, 11230)\\t1\\n  (0, 220)\\t1...  \n",
              "91    (0, 32635)\\t1\\n  (0, 7858)\\t1\\n  (0, 30695)\\...  \n",
              "92    (0, 49829)\\t1\\n  (0, 37262)\\t1\\n  (0, 48086)...  \n",
              "93    (0, 46136)\\t1\\n  (0, 49821)\\t1\\n  (0, 38758)...  \n",
              "94    (0, 21008)\\t1\\n  (0, 3134)\\t1\\n  (0, 28677)\\...  \n",
              "95    (0, 61259)\\t1\\n  (0, 44174)\\t1\\n  (0, 1619)\\...  \n",
              "96    (0, 10528)\\t1\\n  (0, 6471)\\t1\\n  (0, 22495)\\...  \n",
              "97    (0, 26928)\\t1\\n  (0, 29679)\\t1\\n  (0, 60681)\\t1  \n",
              "98    (0, 13377)\\t1\\n  (0, 51922)\\t1\\n  (0, 7575)\\...  \n",
              "99    (0, 5015)\\t1\\n  (0, 51391)\\t1\\n  (0, 14514)\\...  \n",
              "\n",
              "[100 rows x 10 columns]"
            ]
          },
          "metadata": {
            "tags": []
          },
          "execution_count": 62
        }
      ]
    },
    {
      "metadata": {
        "id": "8USLMNiwO18A",
        "colab_type": "code",
        "colab": {}
      },
      "cell_type": "code",
      "source": [
        ""
      ],
      "execution_count": 0,
      "outputs": []
    },
    {
      "metadata": {
        "id": "TW4zjqYNJUIj",
        "colab_type": "code",
        "colab": {}
      },
      "cell_type": "code",
      "source": [
        ""
      ],
      "execution_count": 0,
      "outputs": []
    },
    {
      "metadata": {
        "id": "5HKYj1lnIep1",
        "colab_type": "code",
        "colab": {}
      },
      "cell_type": "code",
      "source": [
        ""
      ],
      "execution_count": 0,
      "outputs": []
    },
    {
      "metadata": {
        "id": "AOPbh4ioILRv",
        "colab_type": "code",
        "colab": {}
      },
      "cell_type": "code",
      "source": [
        ""
      ],
      "execution_count": 0,
      "outputs": []
    },
    {
      "metadata": {
        "id": "EkDjgMv6HbFp",
        "colab_type": "code",
        "outputId": "1850eee6-f1f0-429c-e664-5bbb41e6991e",
        "colab": {
          "base_uri": "https://localhost:8080/",
          "height": 153
        }
      },
      "cell_type": "code",
      "source": [
        "df.info()"
      ],
      "execution_count": 0,
      "outputs": [
        {
          "output_type": "stream",
          "text": [
            "<class 'pandas.core.frame.DataFrame'>\n",
            "Int64Index: 404287 entries, 0 to 404289\n",
            "Data columns (total 3 columns):\n",
            "question1       404287 non-null object\n",
            "question2       404287 non-null object\n",
            "is_duplicate    404287 non-null int64\n",
            "dtypes: int64(1), object(2)\n",
            "memory usage: 32.3+ MB\n"
          ],
          "name": "stdout"
        }
      ]
    },
    {
      "metadata": {
        "id": "mAKj6ibDIHXG",
        "colab_type": "code",
        "colab": {}
      },
      "cell_type": "code",
      "source": [
        ""
      ],
      "execution_count": 0,
      "outputs": []
    },
    {
      "metadata": {
        "id": "E6xJ1JTXHdeB",
        "colab_type": "code",
        "colab": {}
      },
      "cell_type": "code",
      "source": [
        ""
      ],
      "execution_count": 0,
      "outputs": []
    },
    {
      "metadata": {
        "id": "--p4AiMEHSCf",
        "colab_type": "code",
        "colab": {}
      },
      "cell_type": "code",
      "source": [
        ""
      ],
      "execution_count": 0,
      "outputs": []
    },
    {
      "metadata": {
        "id": "dq2xpnS9HQF4",
        "colab_type": "code",
        "colab": {}
      },
      "cell_type": "code",
      "source": [
        ""
      ],
      "execution_count": 0,
      "outputs": []
    },
    {
      "metadata": {
        "id": "uhpYLnGUHNV8",
        "colab_type": "code",
        "colab": {}
      },
      "cell_type": "code",
      "source": [
        ""
      ],
      "execution_count": 0,
      "outputs": []
    },
    {
      "metadata": {
        "id": "PM8QsbbOznkF",
        "colab_type": "code",
        "outputId": "757a9bee-f170-465a-93fa-b2da5405c4e4",
        "colab": {
          "base_uri": "https://localhost:8080/",
          "height": 697
        }
      },
      "cell_type": "code",
      "source": [
        "a = 0 \n",
        "for i in range(a,a+10):\n",
        "    print(df.question1[i])\n",
        "    print(df.question2[i])\n",
        "    print(df.is_duplicate[i])\n",
        "    print()"
      ],
      "execution_count": 0,
      "outputs": [
        {
          "output_type": "stream",
          "text": [
            "What is the step by step guide to invest in share market in india?\n",
            "What is the step by step guide to invest in share market?\n",
            "0\n",
            "\n",
            "What is the story of Kohinoor (Koh-i-Noor) Diamond?\n",
            "What would happen if the Indian government stole the Kohinoor (Koh-i-Noor) diamond back?\n",
            "0\n",
            "\n",
            "How can I increase the speed of my internet connection while using a VPN?\n",
            "How can Internet speed be increased by hacking through DNS?\n",
            "0\n",
            "\n",
            "Why am I mentally very lonely? How can I solve it?\n",
            "Find the remainder when [math]23^{24}[/math] is divided by 24,23?\n",
            "0\n",
            "\n",
            "Which one dissolve in water quikly sugar, salt, methane and carbon di oxide?\n",
            "Which fish would survive in salt water?\n",
            "0\n",
            "\n",
            "Astrology: I am a Capricorn Sun Cap moon and cap rising...what does that say about me?\n",
            "I'm a triple Capricorn (Sun, Moon and ascendant in Capricorn) What does this say about me?\n",
            "1\n",
            "\n",
            "Should I buy tiago?\n",
            "What keeps childern active and far from phone and video games?\n",
            "0\n",
            "\n",
            "How can I be a good geologist?\n",
            "What should I do to be a great geologist?\n",
            "1\n",
            "\n",
            "When do you use シ instead of し?\n",
            "When do you use \"&\" instead of \"and\"?\n",
            "0\n",
            "\n",
            "Motorola (company): Can I hack my Charter Motorolla DCX3400?\n",
            "How do I hack Motorola DCX3400 for free internet?\n",
            "0\n",
            "\n"
          ],
          "name": "stdout"
        }
      ]
    },
    {
      "metadata": {
        "id": "VSJaGZsEGIaO",
        "colab_type": "code",
        "colab": {}
      },
      "cell_type": "code",
      "source": [
        "from sklearn.model_selection import train_test_split"
      ],
      "execution_count": 0,
      "outputs": []
    },
    {
      "metadata": {
        "id": "tIl3sBAAfUFc",
        "colab_type": "code",
        "colab": {}
      },
      "cell_type": "code",
      "source": [
        ""
      ],
      "execution_count": 0,
      "outputs": []
    },
    {
      "metadata": {
        "id": "YukI_wYQ5sdz",
        "colab_type": "code",
        "colab": {}
      },
      "cell_type": "code",
      "source": [
        "X = df.drop(columns=['question1','question2','is_duplicate','count_v1','count_v2'])\n",
        "y = df['is_duplicate']\n",
        "X_train,X_valid,y_train,y_valid = train_test_split(X,y, test_size = 0.33, random_state = 42)"
      ],
      "execution_count": 0,
      "outputs": []
    },
    {
      "metadata": {
        "id": "HzJTZUSmtHkF",
        "colab_type": "code",
        "outputId": "3e034f39-260c-4dd9-ca02-8cdc8a33d074",
        "colab": {
          "base_uri": "https://localhost:8080/",
          "height": 204
        }
      },
      "cell_type": "code",
      "source": [
        "X_train.head()"
      ],
      "execution_count": 0,
      "outputs": [
        {
          "output_type": "execute_result",
          "data": {
            "text/html": [
              "<div>\n",
              "<style scoped>\n",
              "    .dataframe tbody tr th:only-of-type {\n",
              "        vertical-align: middle;\n",
              "    }\n",
              "\n",
              "    .dataframe tbody tr th {\n",
              "        vertical-align: top;\n",
              "    }\n",
              "\n",
              "    .dataframe thead th {\n",
              "        text-align: right;\n",
              "    }\n",
              "</style>\n",
              "<table border=\"1\" class=\"dataframe\">\n",
              "  <thead>\n",
              "    <tr style=\"text-align: right;\">\n",
              "      <th></th>\n",
              "      <th>t1</th>\n",
              "      <th>t2</th>\n",
              "      <th>ratio</th>\n",
              "      <th>ldist</th>\n",
              "      <th>token_sort_ratio</th>\n",
              "      <th>count_v2</th>\n",
              "    </tr>\n",
              "  </thead>\n",
              "  <tbody>\n",
              "    <tr>\n",
              "      <th>186150</th>\n",
              "      <td>103</td>\n",
              "      <td>47</td>\n",
              "      <td>45</td>\n",
              "      <td>77</td>\n",
              "      <td>33</td>\n",
              "      <td>(0, 29610)\\t1\\n  (0, 19884)\\t1\\n  (0, 59735)...</td>\n",
              "    </tr>\n",
              "    <tr>\n",
              "      <th>208652</th>\n",
              "      <td>95</td>\n",
              "      <td>95</td>\n",
              "      <td>99</td>\n",
              "      <td>1</td>\n",
              "      <td>99</td>\n",
              "      <td>(0, 15049)\\t1\\n  (0, 46270)\\t1\\n  (0, 1681)\\...</td>\n",
              "    </tr>\n",
              "    <tr>\n",
              "      <th>268163</th>\n",
              "      <td>150</td>\n",
              "      <td>35</td>\n",
              "      <td>49</td>\n",
              "      <td>127</td>\n",
              "      <td>22</td>\n",
              "      <td>(0, 7583)\\t1\\n  (0, 60990)\\t1\\n  (0, 39739)\\...</td>\n",
              "    </tr>\n",
              "    <tr>\n",
              "      <th>155539</th>\n",
              "      <td>51</td>\n",
              "      <td>109</td>\n",
              "      <td>45</td>\n",
              "      <td>71</td>\n",
              "      <td>54</td>\n",
              "      <td>(0, 51002)\\t1\\n  (0, 56128)\\t1\\n  (0, 56757)...</td>\n",
              "    </tr>\n",
              "    <tr>\n",
              "      <th>212779</th>\n",
              "      <td>28</td>\n",
              "      <td>26</td>\n",
              "      <td>88</td>\n",
              "      <td>3</td>\n",
              "      <td>88</td>\n",
              "      <td>(0, 55069)\\t1\\n  (0, 10839)\\t1\\n  (0, 46114)...</td>\n",
              "    </tr>\n",
              "  </tbody>\n",
              "</table>\n",
              "</div>"
            ],
            "text/plain": [
              "         t1   t2  ratio  ldist  token_sort_ratio  \\\n",
              "186150  103   47     45     77                33   \n",
              "208652   95   95     99      1                99   \n",
              "268163  150   35     49    127                22   \n",
              "155539   51  109     45     71                54   \n",
              "212779   28   26     88      3                88   \n",
              "\n",
              "                                                 count_v2  \n",
              "186150    (0, 29610)\\t1\\n  (0, 19884)\\t1\\n  (0, 59735)...  \n",
              "208652    (0, 15049)\\t1\\n  (0, 46270)\\t1\\n  (0, 1681)\\...  \n",
              "268163    (0, 7583)\\t1\\n  (0, 60990)\\t1\\n  (0, 39739)\\...  \n",
              "155539    (0, 51002)\\t1\\n  (0, 56128)\\t1\\n  (0, 56757)...  \n",
              "212779    (0, 55069)\\t1\\n  (0, 10839)\\t1\\n  (0, 46114)...  "
            ]
          },
          "metadata": {
            "tags": []
          },
          "execution_count": 68
        }
      ]
    },
    {
      "metadata": {
        "id": "_HFVAS-P5fdO",
        "colab_type": "code",
        "colab": {}
      },
      "cell_type": "code",
      "source": [
        "from sklearn.naive_bayes import MultinomialNB\n",
        "clf = MultinomialNB().fit(X_train, y_train)"
      ],
      "execution_count": 0,
      "outputs": []
    },
    {
      "metadata": {
        "id": "sgV2tU3wtONb",
        "colab_type": "code",
        "colab": {}
      },
      "cell_type": "code",
      "source": [
        "pred = clf.predict(X_valid)"
      ],
      "execution_count": 0,
      "outputs": []
    },
    {
      "metadata": {
        "id": "al2_k5Bat_7g",
        "colab_type": "code",
        "outputId": "67838612-3611-4ac4-fe53-ccfb45e59bf7",
        "colab": {
          "base_uri": "https://localhost:8080/",
          "height": 34
        }
      },
      "cell_type": "code",
      "source": [
        "pred"
      ],
      "execution_count": 0,
      "outputs": [
        {
          "output_type": "execute_result",
          "data": {
            "text/plain": [
              "array([1, 0, 0, ..., 0, 1, 0])"
            ]
          },
          "metadata": {
            "tags": []
          },
          "execution_count": 74
        }
      ]
    },
    {
      "metadata": {
        "id": "nnYO02QwuZT0",
        "colab_type": "code",
        "outputId": "f0aebcac-8666-45c2-c65f-f0900dd11863",
        "colab": {
          "base_uri": "https://localhost:8080/",
          "height": 679
        }
      },
      "cell_type": "code",
      "source": [
        "\n",
        "def plot_confusion_matrix(cm, classes,\n",
        "                          normalize=False,\n",
        "                          title='Confusion matrix',\n",
        "                          cmap=plt.cm.Blues):\n",
        "    \"\"\"\n",
        "    This function prints and plots the confusion matrix.\n",
        "    Normalization can be applied by setting `normalize=True`.\n",
        "    \"\"\"\n",
        "    if normalize:\n",
        "        cm = cm.astype('float') / cm.sum(axis=1)[:, np.newaxis]\n",
        "        print(\"Normalized confusion matrix\")\n",
        "    else:\n",
        "        print('Confusion matrix, without normalization')\n",
        "\n",
        "    print(cm)\n",
        "\n",
        "    plt.imshow(cm, interpolation='nearest', cmap=cmap)\n",
        "    plt.title(title)\n",
        "    plt.colorbar()\n",
        "    tick_marks = np.arange(len(classes))\n",
        "    plt.xticks(tick_marks, classes, rotation=45)\n",
        "    plt.yticks(tick_marks, classes)\n",
        "\n",
        "    fmt = '.2f' if normalize else 'd'\n",
        "    thresh = cm.max() / 2.\n",
        "    for i, j in itertools.product(range(cm.shape[0]), range(cm.shape[1])):\n",
        "        plt.text(j, i, format(cm[i, j], fmt),\n",
        "                 horizontalalignment=\"center\",\n",
        "                 color=\"white\" if cm[i, j] > thresh else \"black\")\n",
        "\n",
        "    plt.ylabel('True label')\n",
        "    plt.xlabel('Predicted label')\n",
        "    plt.tight_layout()\n",
        "\n",
        "class_names = [1,0]\n",
        "# Compute confusion matrix\n",
        "cnf_matrix = confusion_matrix(pred,y_valid.values)\n",
        "np.set_printoptions(precision=2)\n",
        "\n",
        "# Plot non-normalized confusion matrix\n",
        "plt.figure()\n",
        "plot_confusion_matrix(cnf_matrix, classes=class_names,\n",
        "                      title='Confusion matrix, without normalization')\n",
        "\n",
        "# Plot normalized confusion matrix\n",
        "plt.figure()\n",
        "plot_confusion_matrix(cnf_matrix, classes=class_names, normalize=True,\n",
        "                      title='Normalized confusion matrix')\n",
        "\n",
        "plt.show()"
      ],
      "execution_count": 0,
      "outputs": [
        {
          "output_type": "stream",
          "text": [
            "Confusion matrix, without normalization\n",
            "[[49165 12708]\n",
            " [35102 36440]]\n",
            "Normalized confusion matrix\n",
            "[[0.79 0.21]\n",
            " [0.49 0.51]]\n"
          ],
          "name": "stdout"
        },
        {
          "output_type": "display_data",
          "data": {
            "image/png": "[encoded data removed]",
            "text/plain": [
              "<Figure size 432x288 with 2 Axes>"
            ]
          },
          "metadata": {
            "tags": []
          }
        },
        {
          "output_type": "display_data",
          "data": {
            "image/png": "[encoded data removed]",
            "text/plain": [
              "<Figure size 432x288 with 2 Axes>"
            ]
          },
          "metadata": {
            "tags": []
          }
        }
      ]
    },
    {
      "metadata": {
        "id": "1La0BcsDtgVq",
        "colab_type": "code",
        "outputId": "c509a2de-3663-4d46-c75b-f5406372acb7",
        "colab": {
          "base_uri": "https://localhost:8080/",
          "height": 51
        }
      },
      "cell_type": "code",
      "source": [
        "from sklearn.metrics import confusion_matrix\n",
        "confusion_matrix(pred,y_valid.values)"
      ],
      "execution_count": 0,
      "outputs": [
        {
          "output_type": "execute_result",
          "data": {
            "text/plain": [
              "array([[49165, 12708],\n",
              "       [35102, 36440]])"
            ]
          },
          "metadata": {
            "tags": []
          },
          "execution_count": 75
        }
      ]
    }
  ]
}